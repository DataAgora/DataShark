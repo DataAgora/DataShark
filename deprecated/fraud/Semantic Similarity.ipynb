{
 "cells": [
  {
   "cell_type": "code",
   "execution_count": 53,
   "metadata": {},
   "outputs": [],
   "source": [
    "import numpy as np\n",
    "import nltk\n",
    "import string\n",
    "from nltk.corpus import stopwords\n",
    "from nltk.stem.porter import PorterStemmer\n",
    "from sklearn.feature_extraction.text import TfidfVectorizer"
   ]
  },
  {
   "cell_type": "code",
   "execution_count": 64,
   "metadata": {},
   "outputs": [],
   "source": [
    " def get_data():\n",
    "    A, B, S = [], [], []\n",
    "\n",
    "    datasets = ['SICK_train.txt', 'SICK_trial.txt', 'SICK_test_annotated.txt']\n",
    "    for data in datasets:\n",
    "        for line in open(data, 'rb'):\n",
    "            text = line.decode().strip().split('\\t')\n",
    "            A.append(text[1])\n",
    "            B.append(text[2])\n",
    "            S.append(text[3])\n",
    "        A, B, S = A[1:], B[1:], S[1:]\n",
    "\n",
    "    return A, B, S"
   ]
  },
  {
   "cell_type": "code",
   "execution_count": 79,
   "metadata": {},
   "outputs": [],
   "source": [
    "A, B, S = get_data()\n",
    "x, y = [], []\n",
    "for i in range(len(A)):\n",
    "    x.append(S[i])\n",
    "    y.append(get_similarity(A[i], B[i])*5)"
   ]
  },
  {
   "cell_type": "code",
   "execution_count": 59,
   "metadata": {},
   "outputs": [],
   "source": [
    "def get_similarity(a, b):\n",
    "    stemmer = nltk.stem.porter.PorterStemmer()\n",
    "\n",
    "    remove_punctuation_map = dict((ord(char), None) for char in string.punctuation)\n",
    "\n",
    "    def stem_tokens(tokens):\n",
    "        return [stemmer.stem(item) for item in tokens]\n",
    "\n",
    "    def normalize(text):\n",
    "        text = text.lower().translate(remove_punctuation_map)\n",
    "        return stem_tokens(nltk.word_tokenize(text))\n",
    "\n",
    "    vectorizer = TfidfVectorizer(tokenizer=normalize, stop_words='english')\n",
    "\n",
    "    def cosine_sim(text1, text2):\n",
    "        tfidf = vectorizer.fit_transform([text1, text2])\n",
    "        return ((tfidf * tfidf.T).A)[0,1]\n",
    "    \n",
    "    return cosine_sim(a, b)"
   ]
  },
  {
   "cell_type": "code",
   "execution_count": 68,
   "metadata": {
    "collapsed": true
   },
   "outputs": [],
   "source": [
    "import matplotlib.pyplot as plt"
   ]
  },
  {
   "cell_type": "code",
   "execution_count": 83,
   "metadata": {},
   "outputs": [
    {
     "data": {
      "image/png": "[encoded data removed]",
      "text/plain": [
       "<matplotlib.figure.Figure at 0x105510940>"
      ]
     },
     "metadata": {},
     "output_type": "display_data"
    }
   ],
   "source": [
    "plt.scatter(x1, y1)\n",
    "plt.show()"
   ]
  },
  {
   "cell_type": "code",
   "execution_count": 80,
   "metadata": {},
   "outputs": [],
   "source": [
    "x1, y1 = [], []\n",
    "for i in range(len(x)):\n",
    "    if x[i] != 'relatedness_score':\n",
    "        x1.append(x[i])\n",
    "        y1.append(y[i])"
   ]
  },
  {
   "cell_type": "code",
   "execution_count": 84,
   "metadata": {
    "collapsed": true
   },
   "outputs": [],
   "source": [
    "from sklearn import linear_model"
   ]
  },
  {
   "cell_type": "code",
   "execution_count": 87,
   "metadata": {},
   "outputs": [
    {
     "name": "stderr",
     "output_type": "stream",
     "text": [
      "/Library/Frameworks/Python.framework/Versions/3.5/lib/python3.5/site-packages/scipy/linalg/basic.py:1018: RuntimeWarning: internal gelsd driver lwork query error, required iwork dimension not returned. This is likely the result of LAPACK bug 0038, fixed in LAPACK 3.2.2 (released July 21, 2010). Falling back to 'gelss' driver.\n",
      "  warnings.warn(mesg, RuntimeWarning)\n"
     ]
    },
    {
     "data": {
      "text/plain": [
       "LinearRegression(copy_X=True, fit_intercept=True, n_jobs=1, normalize=False)"
      ]
     },
     "execution_count": 87,
     "metadata": {},
     "output_type": "execute_result"
    }
   ],
   "source": [
    "regr = linear_model.LinearRegression()\n",
    "regr.fit(np.array(x1).reshape(-1, 1), np.array(y1).reshape(-1, 1))"
   ]
  },
  {
   "cell_type": "code",
   "execution_count": 88,
   "metadata": {},
   "outputs": [
    {
     "name": "stdout",
     "output_type": "stream",
     "text": [
      "Coefficients: \n",
      " [[ 0.9479248]]\n"
     ]
    }
   ],
   "source": [
    "print('Coefficients: \\n', regr.coef_)"
   ]
  },
  {
   "cell_type": "code",
   "execution_count": 96,
   "metadata": {
    "collapsed": true
   },
   "outputs": [],
   "source": [
    "x1 = np.array(x1).astype(np.float64)\n",
    "y1 = np.array(y1).astype(np.float64)"
   ]
  },
  {
   "cell_type": "code",
   "execution_count": 99,
   "metadata": {},
   "outputs": [],
   "source": [
    "sum = 0\n",
    "for i in range(len(x1)):\n",
    "    sum += (x1[i] - y1[i])\n",
    "sum /= len(x1)"
   ]
  },
  {
   "cell_type": "code",
   "execution_count": 100,
   "metadata": {},
   "outputs": [
    {
     "data": {
      "text/plain": [
       "1.0199856721875873"
      ]
     },
     "execution_count": 100,
     "metadata": {},
     "output_type": "execute_result"
    }
   ],
   "source": [
    "sum"
   ]
  },
  {
   "cell_type": "code",
   "execution_count": null,
   "metadata": {
    "collapsed": true
   },
   "outputs": [],
   "source": []
  }
 ],
 "metadata": {
  "kernelspec": {
   "display_name": "Python 3",
   "language": "python",
   "name": "python3"
  },
  "language_info": {
   "codemirror_mode": {
    "name": "ipython",
    "version": 3
   },
   "file_extension": ".py",
   "mimetype": "text/x-python",
   "name": "python",
   "nbconvert_exporter": "python",
   "pygments_lexer": "ipython3",
   "version": "3.5.2"
  }
 },
 "nbformat": 4,
 "nbformat_minor": 2
}
