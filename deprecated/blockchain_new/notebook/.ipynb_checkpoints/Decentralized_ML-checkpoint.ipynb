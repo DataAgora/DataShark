{
 "cells": [
  {
   "cell_type": "markdown",
   "metadata": {},
   "source": [
    "# Decentralized Machine Learning"
   ]
  },
  {
   "cell_type": "code",
   "execution_count": 36,
   "metadata": {},
   "outputs": [],
   "source": [
    "import warnings\n",
    "warnings.simplefilter('ignore')\n",
    "import logging\n",
    "import pickle\n",
    "import shutil\n",
    "import time\n",
    "\n",
    "import numpy as np\n",
    "import tensorflow as tf\n",
    "\n",
    "from eth_utils import is_address\n",
    "from web3.auto import w3\n",
    "from web3 import Web3, HTTPProvider\n",
    "# warnings.filterwarnings('ignore')"
   ]
  },
  {
   "cell_type": "markdown",
   "metadata": {},
   "source": [
    "### Client Setup"
   ]
  },
  {
   "cell_type": "code",
   "execution_count": 37,
   "metadata": {},
   "outputs": [
    {
     "name": "stdout",
     "output_type": "stream",
     "text": [
      "New Account: 0x77268969eC1c074434d644c31b2ff33FAE5Ce30E\n",
      "Balance: 0\n",
      "Balance: 9999999999\n"
     ]
    }
   ],
   "source": [
    "from web3 import Web3, HTTPProvider\n",
    "\n",
    "\n",
    "web3 = Web3(HTTPProvider('http://localhost:8545'))\n",
    "# web3 = Web3(web3.currentProvider)\n",
    "\n",
    "PASSPHRASE = 'panda'\n",
    "TEST_ACCOUNT = web3.eth.coinbase\n",
    "\n",
    "acct = web3.personal.newAccount(PASSPHRASE)\n",
    "print(\"New Account:\", acct)\n",
    "print(\"Balance:\", web3.eth.getBalance(acct))\n",
    "web3.eth.sendTransaction({\"from\": TEST_ACCOUNT, \"to\": acct, \"value\": 9999999999})\n",
    "print(\"Balance:\", web3.eth.getBalance(acct))\n",
    "# print(\"Accounts on the Network:\", web3.eth.accounts)\n",
    "# print(\"Personal Accounts:\", web3.personal.listAccounts)"
   ]
  },
  {
   "cell_type": "markdown",
   "metadata": {},
   "source": [
    "### Contract Deployment"
   ]
  },
  {
   "cell_type": "code",
   "execution_count": 38,
   "metadata": {},
   "outputs": [
    {
     "name": "stdout",
     "output_type": "stream",
     "text": [
      "Deployed Query to: 0x8631cdA2bE108CB73121f21C1622D0b5bBe68907\n",
      "\n"
     ]
    }
   ],
   "source": [
    "from solc import compile_source\n",
    "import pprint\n",
    "\n",
    "\n",
    "# CONTRACT_NAME = 'Greeter.sol'\n",
    "CONTRACT_NAME = '../contracts/Query.sol'\n",
    "ARG1 = 3\n",
    "ARG2 = [0, 1, 2]\n",
    "\n",
    "def compile_source_file(file_path):\n",
    "   with open(file_path, 'r') as f:\n",
    "      source = f.read()\n",
    "\n",
    "   return compile_source(source)\n",
    "\n",
    "\n",
    "def deploy_contract(w3, contract_interface, arg1, arg2):\n",
    "    tx_hash = w3.eth.contract(\n",
    "        abi=contract_interface['abi'],\n",
    "        bytecode=contract_interface['bin']).constructor(arg1, arg2).transact({\"from\": acct})\n",
    "\n",
    "    address = w3.eth.getTransactionReceipt(tx_hash)['contractAddress']\n",
    "    return address\n",
    "\n",
    "\n",
    "def wait_for_receipt(w3, tx_hash, poll_interval):\n",
    "   while True:\n",
    "       tx_receipt = w3.eth.getTransactionReceipt(tx_hash)\n",
    "       if tx_receipt:\n",
    "         return tx_receipt\n",
    "       time.sleep(poll_interval)\n",
    "    \n",
    "contract_source_path = CONTRACT_NAME\n",
    "compiled_sol = compile_source_file(contract_source_path)\n",
    "\n",
    "pp = pprint.PrettyPrinter()\n",
    "\n",
    "contract_id, contract_interface = compiled_sol.popitem()\n",
    "# pp.pprint(contract_interface['abi'])\n",
    "\n",
    "# print(web3.eth.accounts)\n",
    "# print(acct)\n",
    "web3.personal.unlockAccount(acct, PASSPHRASE)\n",
    "\n",
    "address = deploy_contract(web3, contract_interface, ARG1, ARG2)\n",
    "print(\"Deployed {0} to: {1}\\n\".format(contract_id.replace('<stdin>:', ''), address))"
   ]
  },
  {
   "cell_type": "markdown",
   "metadata": {},
   "source": [
    "### Event Listening"
   ]
  },
  {
   "cell_type": "code",
   "execution_count": 39,
   "metadata": {},
   "outputs": [],
   "source": []
  },
  {
   "cell_type": "code",
   "execution_count": null,
   "metadata": {},
   "outputs": [],
   "source": []
  },
  {
   "cell_type": "code",
   "execution_count": null,
   "metadata": {},
   "outputs": [],
   "source": []
  },
  {
   "cell_type": "code",
   "execution_count": 48,
   "metadata": {},
   "outputs": [
    {
     "name": "stdout",
     "output_type": "stream",
     "text": [
      "AttributeDict({'args': AttributeDict({'n': 8}), 'event': 'ResponseReceived', 'logIndex': 0, 'transactionIndex': 0, 'transactionHash': HexBytes('0xdadeafe7ed439e17a7f50c3b5e7e5fc4285c080e80901abffa6be51690a219ff'), 'address': '0x8631cdA2bE108CB73121f21C1622D0b5bBe68907', 'blockHash': HexBytes('0xfbb9f68a37e6666ad96761f6aecb749479e783a258ebe3ce6e21b3a120590cde'), 'blockNumber': 38})\n",
      "Contract address: 0x8631cdA2bE108CB73121f21C1622D0b5bBe68907\n",
      "Event: ResponseReceived\n",
      "Arg: AttributeDict({'n': 8})\n"
     ]
    },
    {
     "data": {
      "text/plain": [
       "HexBytes('0xd04191205fa8b6766d44bbe3bb38d56e9993d75f6011b8eb13319e673e7cc7b0')"
      ]
     },
     "execution_count": 48,
     "metadata": {},
     "output_type": "execute_result"
    }
   ],
   "source": [
    "def txn_digest(txn):\n",
    "    return \"Contract address: {0}\\nEvent: {1}\\nArg: {2}\".format(\n",
    "        txn['address'], txn['event'], txn['args'])\n",
    "\n",
    "def event_callback(arg):\n",
    "    print(txn_digest(arg))\n",
    "\n",
    "contract_obj = web3.eth.contract(\n",
    "   address=address,\n",
    "   abi=contract_interface['abi'])\n",
    "\n",
    "# pp.pprint(contract_obj.events)\n",
    "\n",
    "# tx_retval = contract_obj.functions.sendResponse([0, 1, 2], 1, 3).call({'from': TEST_ACCOUNT})\n",
    "tx_hash = contract_obj.functions.sendResponse([0, 1, 2], 0, 3).transact({'from': TEST_ACCOUNT})\n",
    "tx_receipt = web3.eth.getTransactionReceipt(tx_hash)\n",
    "# print(tx_receipt)\n",
    "\n",
    "\n",
    "# client_selected_event.createFilter({'filter': {'arg1':10}})\n",
    "\n",
    "# contract_obj.functions.keyList().call({'from': TEST_ACCOUNT})\n",
    "\n",
    "log1 = contract_obj.events.ResponseReceived().processReceipt(tx_receipt)\n",
    "# log2 = contract_obj.events.ResponseReceived().processReceipt(tx_receipt)\n",
    "\n",
    "pp.pprint(log1[0])\n",
    "event_callback(log1[0])\n",
    "\n",
    "contract_obj.functions.sendResponse([0, 1, 2], 1, 3).transact({'from': TEST_ACCOUNT})\n",
    "contract_obj.functions.sendResponse([0, 1, 2], 2, 3).transact({'from': TEST_ACCOUNT})\n",
    "# contract_obj.functions.inverseScale().transact({'from': TEST_ACCOUNT})"
   ]
  },
  {
   "cell_type": "code",
   "execution_count": null,
   "metadata": {},
   "outputs": [],
   "source": [
    "event_filter = contract_obj.events.ResponseReceived().createFilter(fromBlock = 'latest')\n",
    "event_filter.get_all_entries()"
   ]
  },
  {
   "cell_type": "code",
   "execution_count": null,
   "metadata": {},
   "outputs": [],
   "source": []
  }
 ],
 "metadata": {
  "kernelspec": {
   "display_name": "Python 3",
   "language": "python",
   "name": "python3"
  },
  "language_info": {
   "codemirror_mode": {
    "name": "ipython",
    "version": 3
   },
   "file_extension": ".py",
   "mimetype": "text/x-python",
   "name": "python",
   "nbconvert_exporter": "python",
   "pygments_lexer": "ipython3",
   "version": "3.6.4"
  }
 },
 "nbformat": 4,
 "nbformat_minor": 2
}
