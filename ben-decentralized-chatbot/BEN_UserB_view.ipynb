{
 "cells": [
  {
   "cell_type": "code",
   "execution_count": 1,
   "metadata": {},
   "outputs": [
    {
     "name": "stderr",
     "output_type": "stream",
     "text": [
      "/usr/local/lib/python3.6/site-packages/h5py/__init__.py:36: FutureWarning: Conversion of the second argument of issubdtype from `float` to `np.floating` is deprecated. In future, it will be treated as `np.float64 == np.dtype(float).type`.\n",
      "  from ._conv import register_converters as _register_converters\n",
      "Using TensorFlow backend.\n"
     ]
    }
   ],
   "source": [
    "from web3 import Web3, HTTPProvider, IPCProvider\n",
    "from client import Client\n",
    "\n",
    "\n",
    "# web3 = Web3(HTTPProvider('http://localhost:8545'))\n",
    "web3 = Web3(IPCProvider('/Users/nick/Library/Ethereum/testnet/geth.ipc'))\n",
    "\n",
    "assert web3.isConnected()"
   ]
  },
  {
   "cell_type": "code",
   "execution_count": 2,
   "metadata": {},
   "outputs": [
    {
     "name": "stdout",
     "output_type": "stream",
     "text": [
      "Client Address: 0x1F478C05C7f9b5a44a7558F63f95779eC515FbC1\n",
      "Client balance: 8535606699990000\n"
     ]
    }
   ],
   "source": [
    "with open('delegator_addr', 'r') as d:\n",
    "    DELEGATOR_ADDRESS = d.read()\n",
    "    d.close\n",
    "\n",
    "clientB = Client(1, web3, delegatorAddress=DELEGATOR_ADDRESS)\n",
    "clientB.get_money()\n",
    "\n",
    "with open('client_addr', 'w') as c:\n",
    "    c.write(clientB.clientAddress)\n",
    "    c.close"
   ]
  },
  {
   "cell_type": "code",
   "execution_count": 3,
   "metadata": {
    "scrolled": true
   },
   "outputs": [
    {
     "name": "stdout",
     "output_type": "stream",
     "text": [
      "{'address': '0xDcD1a1f80C37F2778a5128123faBdFdfFBB64070', 'topics': [HexBytes('0x998531445404b0df49aad4b4e2cef56293d4e7e97290d2504c4276b065d05c0a')], 'data': '0x0000000000000000000000001f478c05c7f9b5a44a7558f63f95779ec515fbc1000000000000000000000000dfc6110cd3e8de305c525292e55be1bc3179b8f6', 'blockNumber': 3086695, 'transactionHash': HexBytes('0x23c8f40352cc5650931d6ecdbef07605654211c354f835bd33ab8383a2aea6eb'), 'transactionIndex': 24, 'blockHash': HexBytes('0x33d7b648dc5e3cc6e78d4fabd016f75b7305d0eca81dfd872e3cd7703faa1eb1'), 'logIndex': 7, 'removed': False}\n",
      "0x0000000000000000000000001f478c05c7f9b5a44a7558f63f95779ec515fbc1000000000000000000000000dfc6110cd3e8de305c525292e55be1bc3179b8f6\n",
      "0xdfc6110cd3e8de305c525292e55be1bc3179b8f6\n",
      "{'address': '0xdFC6110cD3e8de305C525292e55bE1bC3179b8f6', 'topics': [HexBytes('0xedc9922223a88c2dbd92d3463fbe4141e7f3b1e7b8b4253b3e69d9d5ebfb28e2')], 'data': '0x0000000000000000000000001f478c05c7f9b5a44a7558f63f95779ec515fbc10000000000000000000000000000000000000000000000000000000000000040000000000000000000000000000000000000000000000000000000000000002e516d566d347942326a785077585856584d366e383654757741346a43513745664e506a67754672686f436250694a000000000000000000000000000000000000', 'blockNumber': 3086697, 'transactionHash': HexBytes('0x0026ac62a26d86951718f5def35485e0b20d474f3208481011e95690f81a7f37'), 'transactionIndex': 13, 'blockHash': HexBytes('0xbcd67ef972b2742ceb761e4aae793358b3067489d435bcc710881488065c2d7d'), 'logIndex': 4, 'removed': False}\n",
      "IPFS address: QmVm4yB2jxPwXXVXM6n86TuwA4jCQ7EfNPjguFrhoCbPiJ\n",
      "Reading the context data...\n",
      "Reading the answer data...\n",
      "Tokenazing the answers...\n",
      "Using vocabulary of size 7000.\n",
      "The least frequent word in our vocabulary is 'airlock' and appeared 80 times.\n",
      "Number of exemples = 5\n",
      "Training epoch: 0, training examples: 0 - 5\n",
      "Epoch 1/1\n",
      "18/18 [==============================] - 5s 305ms/step - loss: 4.2997\n",
      "receiving reward...\n",
      "sent!\n",
      "None\n"
     ]
    }
   ],
   "source": [
    "print(clientB.main())"
   ]
  },
  {
   "cell_type": "code",
   "execution_count": null,
   "metadata": {},
   "outputs": [],
   "source": []
  }
 ],
 "metadata": {
  "kernelspec": {
   "display_name": "Python 3",
   "language": "python",
   "name": "python3"
  },
  "language_info": {
   "codemirror_mode": {
    "name": "ipython",
    "version": 3
   },
   "file_extension": ".py",
   "mimetype": "text/x-python",
   "name": "python",
   "nbconvert_exporter": "python",
   "pygments_lexer": "ipython3",
   "version": "3.6.4"
  }
 },
 "nbformat": 4,
 "nbformat_minor": 2
}
