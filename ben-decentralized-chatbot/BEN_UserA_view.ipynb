{
 "cells": [
  {
   "cell_type": "code",
   "execution_count": 1,
   "metadata": {},
   "outputs": [
    {
     "name": "stderr",
     "output_type": "stream",
     "text": [
      "/usr/local/lib/python3.6/site-packages/h5py/__init__.py:36: FutureWarning: Conversion of the second argument of issubdtype from `float` to `np.floating` is deprecated. In future, it will be treated as `np.float64 == np.dtype(float).type`.\n",
      "  from ._conv import register_converters as _register_converters\n",
      "Using TensorFlow backend.\n"
     ]
    },
    {
     "name": "stdout",
     "output_type": "stream",
     "text": [
      "Client Address: 0x3c7Da0A86A38cFCDDdEca8eAB44FD1756a7F9644\n",
      "16825438819099970003\n",
      "8535606699990000\n",
      "Delegator Address 0xD3B54427B274F14D77fcAf03557c2b09ec637928\n"
     ]
    }
   ],
   "source": [
    "from web3 import Web3, HTTPProvider, IPCProvider\n",
    "from client import Client\n",
    "\n",
    "\n",
    "# web3 = Web3(HTTPProvider('http://127.0.0.1:30303'))\n",
    "web3 = Web3(IPCProvider('/Users/nick/Library/Ethereum/testnet/geth.ipc'))\n",
    "# web3_infura = Web3(HTTPProvider('https://ropsten.infura.io/c5lVIUAGmJ7HIW2QwM3J'))\n",
    "assert web3.isConnected()\n",
    "\n",
    "clientA = Client(0, web3)\n",
    "\n",
    "clientA.get_money()\n",
    "delegator_address = clientA.Delegator_address\n",
    "print(\"Delegator Address\", delegator_address)\n",
    "\n",
    "with open('delegator_addr', 'w') as d:\n",
    "    d.write(delegator_address)\n",
    "    d.close"
   ]
  },
  {
   "cell_type": "code",
   "execution_count": 2,
   "metadata": {},
   "outputs": [
    {
     "name": "stdout",
     "output_type": "stream",
     "text": [
      "AttributeDict({'blockHash': HexBytes('0x29a4f49200f5afc27a05a0284ff5eb29ca2756300017c96cb3ac215d5f7eba55'), 'blockNumber': 3084897, 'contractAddress': None, 'cumulativeGasUsed': 1007450, 'from': '0x3c7da0a86a38cfcdddeca8eab44fd1756a7f9644', 'gasUsed': 689792, 'logs': [AttributeDict({'address': '0xD3B54427B274F14D77fcAf03557c2b09ec637928', 'topics': [HexBytes('0x998531445404b0df49aad4b4e2cef56293d4e7e97290d2504c4276b065d05c0a')], 'data': '0x00000000000000000000000012f36130cff98b69172442e83432913bc5031709000000000000000000000000121c9978b60687e013cb52b44c0c273a91aa0f41', 'blockNumber': 3084897, 'transactionHash': HexBytes('0xe399bb5a8fd2386a2ffdc0328717db226f87b0be150ae2ec916aa2d95d5bc65e'), 'transactionIndex': 8, 'blockHash': HexBytes('0x29a4f49200f5afc27a05a0284ff5eb29ca2756300017c96cb3ac215d5f7eba55'), 'logIndex': 1, 'removed': False})], 'logsBloom': HexBytes('0x00000000000000000000000000000000000000000000000000000000000000080000000000000000000000000000000000000000000000000000000000000000000040000000020000000000000000000000000000000000000000000000000000000000000000000000000000000000000000000010000000000000000000000000000000000000000000000000000400000000000000000000000000000000000040000000000000000000000000000000000000000000000000000000000000000000000000000000000000000000000000000000000000000000000000000000000000000000000000000000000000000000000000000000000000000000'), 'status': 1, 'to': '0xd3b54427b274f14d77fcaf03557c2b09ec637928', 'transactionHash': HexBytes('0xe399bb5a8fd2386a2ffdc0328717db226f87b0be150ae2ec916aa2d95d5bc65e'), 'transactionIndex': 8})\n",
      "None\n"
     ]
    }
   ],
   "source": [
    "with open('client_addr', 'r') as c:\n",
    "    CLIENT_ADDRESS = c.read()\n",
    "    c.close\n",
    "\n",
    "print(clientA.launch_query(CLIENT_ADDRESS))"
   ]
  },
  {
   "cell_type": "code",
   "execution_count": 3,
   "metadata": {},
   "outputs": [
    {
     "name": "stdout",
     "output_type": "stream",
     "text": [
      "AttributeDict({'blockHash': HexBytes('0x1890bfbf3fa0472bf376b98123dd52d21b12ef00397828150143ea8c79bc1f19'), 'blockNumber': 3084901, 'contractAddress': None, 'cumulativeGasUsed': 387171, 'from': '0x3c7da0a86a38cfcdddeca8eab44fd1756a7f9644', 'gasUsed': 25572, 'logs': [AttributeDict({'address': '0x121c9978B60687e013CB52b44c0c273a91aa0F41', 'topics': [HexBytes('0xedc9922223a88c2dbd92d3463fbe4141e7f3b1e7b8b4253b3e69d9d5ebfb28e2')], 'data': '0x00000000000000000000000012f36130cff98b69172442e83432913bc50317090000000000000000000000000000000000000000000000000000000000000040000000000000000000000000000000000000000000000000000000000000002e516d566d347942326a785077585856584d366e383654757741346a43513745664e506a67754672686f436250694a000000000000000000000000000000000000', 'blockNumber': 3084901, 'transactionHash': HexBytes('0x9f82321b503f08f9aa771d02fb7a7193df021ac57e0571f4ee14effc2fe3024b'), 'transactionIndex': 9, 'blockHash': HexBytes('0x1890bfbf3fa0472bf376b98123dd52d21b12ef00397828150143ea8c79bc1f19'), 'logIndex': 13, 'removed': False})], 'logsBloom': HexBytes('0x00000000000000000000000000000000000000000000000000000000000000000000000000000000000000000000000000000000000000000000000000000000000000000000000000000000000000000000000000000040000000000000400000000000200000000000000000000000000000000000000000000000000000000000000000000000000000000000000000000000000000000000010000000000000000000000000000000000000000000000000000000000001000000000000000000000000000000000000000000000000000000000000000002000000000000000000000000000000000000000000000000000000000000000000000000000'), 'status': 1, 'to': '0x121c9978b60687e013cb52b44c0c273a91aa0f41', 'transactionHash': HexBytes('0x9f82321b503f08f9aa771d02fb7a7193df021ac57e0571f4ee14effc2fe3024b'), 'transactionIndex': 9})\n"
     ]
    }
   ],
   "source": [
    "print(clientA.ping_client())"
   ]
  },
  {
   "cell_type": "code",
   "execution_count": null,
   "metadata": {},
   "outputs": [],
   "source": []
  }
 ],
 "metadata": {
  "kernelspec": {
   "display_name": "Python 3",
   "language": "python",
   "name": "python3"
  },
  "language_info": {
   "codemirror_mode": {
    "name": "ipython",
    "version": 3
   },
   "file_extension": ".py",
   "mimetype": "text/x-python",
   "name": "python",
   "nbconvert_exporter": "python",
   "pygments_lexer": "ipython3",
   "version": "3.6.4"
  }
 },
 "nbformat": 4,
 "nbformat_minor": 2
}
