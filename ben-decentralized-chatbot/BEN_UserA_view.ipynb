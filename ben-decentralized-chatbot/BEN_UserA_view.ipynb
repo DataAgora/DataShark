{
 "cells": [
  {
   "cell_type": "code",
   "execution_count": 1,
   "metadata": {},
   "outputs": [
    {
     "name": "stderr",
     "output_type": "stream",
     "text": [
      "/usr/local/lib/python3.6/site-packages/h5py/__init__.py:36: FutureWarning: Conversion of the second argument of issubdtype from `float` to `np.floating` is deprecated. In future, it will be treated as `np.float64 == np.dtype(float).type`.\n",
      "  from ._conv import register_converters as _register_converters\n",
      "Using TensorFlow backend.\n"
     ]
    },
    {
     "name": "stdout",
     "output_type": "stream",
     "text": [
      "Client Address: 0x3eEab1185944Fe80606E1784202C37899f89241c\n",
      "Client balance: 8535606699990000\n",
      "Delegator Address 0xDcD1a1f80C37F2778a5128123faBdFdfFBB64070\n"
     ]
    }
   ],
   "source": [
    "from web3 import Web3, HTTPProvider, IPCProvider\n",
    "from client import Client\n",
    "\n",
    "\n",
    "# web3 = Web3(HTTPProvider('http://127.0.0.1:8545'))\n",
    "web3 = Web3(IPCProvider('/Users/nick/Library/Ethereum/testnet/geth.ipc'))\n",
    "# web3_infura = Web3(HTTPProvider('https://ropsten.infura.io/c5lVIUAGmJ7HIW2QwM3J'))\n",
    "assert web3.isConnected()\n",
    "\n",
    "clientA = Client(0, web3)\n",
    "\n",
    "clientA.get_money()\n",
    "delegator_address = clientA.Delegator_address\n",
    "print(\"Delegator Address\", delegator_address)\n",
    "\n",
    "with open('delegator_addr', 'w') as d:\n",
    "    d.write(delegator_address)\n",
    "    d.close"
   ]
  },
  {
   "cell_type": "code",
   "execution_count": 2,
   "metadata": {},
   "outputs": [
    {
     "name": "stdout",
     "output_type": "stream",
     "text": [
      "AttributeDict({'blockHash': HexBytes('0x33d7b648dc5e3cc6e78d4fabd016f75b7305d0eca81dfd872e3cd7703faa1eb1'), 'blockNumber': 3086695, 'contractAddress': None, 'cumulativeGasUsed': 3252419, 'from': '0x3eeab1185944fe80606e1784202c37899f89241c', 'gasUsed': 689792, 'logs': [AttributeDict({'address': '0xDcD1a1f80C37F2778a5128123faBdFdfFBB64070', 'topics': [HexBytes('0x998531445404b0df49aad4b4e2cef56293d4e7e97290d2504c4276b065d05c0a')], 'data': '0x0000000000000000000000001f478c05c7f9b5a44a7558f63f95779ec515fbc1000000000000000000000000dfc6110cd3e8de305c525292e55be1bc3179b8f6', 'blockNumber': 3086695, 'transactionHash': HexBytes('0x23c8f40352cc5650931d6ecdbef07605654211c354f835bd33ab8383a2aea6eb'), 'transactionIndex': 24, 'blockHash': HexBytes('0x33d7b648dc5e3cc6e78d4fabd016f75b7305d0eca81dfd872e3cd7703faa1eb1'), 'logIndex': 7, 'removed': False})], 'logsBloom': HexBytes('0x00000000000000000000000000000004000000000000000000000000000000080000000000000000000000000000000000000000000000000000000000000000000000000000000000000000000000400000000000000000000000800000000000000000000000000000000000000000000000000010000000000000000000000000000000000000000000000000000400000000000000000000000000000000000000000000000000000000000000000000000000000000000000000000000000000000000000000000000000000000000000000000000000000000000000000000000000000000000000000000000000000000000000000000000000000000'), 'status': 1, 'to': '0xdcd1a1f80c37f2778a5128123fabdfdffbb64070', 'transactionHash': HexBytes('0x23c8f40352cc5650931d6ecdbef07605654211c354f835bd33ab8383a2aea6eb'), 'transactionIndex': 24})\n",
      "None\n"
     ]
    }
   ],
   "source": [
    "with open('client_addr', 'r') as c:\n",
    "    CLIENT_ADDRESS = c.read()\n",
    "    c.close\n",
    "\n",
    "print(clientA.launch_query(CLIENT_ADDRESS))"
   ]
  },
  {
   "cell_type": "code",
   "execution_count": 3,
   "metadata": {},
   "outputs": [
    {
     "name": "stdout",
     "output_type": "stream",
     "text": [
      "AttributeDict({'blockHash': HexBytes('0xbcd67ef972b2742ceb761e4aae793358b3067489d435bcc710881488065c2d7d'), 'blockNumber': 3086697, 'contractAddress': None, 'cumulativeGasUsed': 989810, 'from': '0x3eeab1185944fe80606e1784202c37899f89241c', 'gasUsed': 25572, 'logs': [AttributeDict({'address': '0xdFC6110cD3e8de305C525292e55bE1bC3179b8f6', 'topics': [HexBytes('0xedc9922223a88c2dbd92d3463fbe4141e7f3b1e7b8b4253b3e69d9d5ebfb28e2')], 'data': '0x0000000000000000000000001f478c05c7f9b5a44a7558f63f95779ec515fbc10000000000000000000000000000000000000000000000000000000000000040000000000000000000000000000000000000000000000000000000000000002e516d566d347942326a785077585856584d366e383654757741346a43513745664e506a67754672686f436250694a000000000000000000000000000000000000', 'blockNumber': 3086697, 'transactionHash': HexBytes('0x0026ac62a26d86951718f5def35485e0b20d474f3208481011e95690f81a7f37'), 'transactionIndex': 13, 'blockHash': HexBytes('0xbcd67ef972b2742ceb761e4aae793358b3067489d435bcc710881488065c2d7d'), 'logIndex': 4, 'removed': False})], 'logsBloom': HexBytes('0x00000000000000000000000000000000000000000000000000000000000000000000000000000000008010000000000000000000000000000000000000000000000000000000000000000000000000000000000000000040000000000000000000000000000000000000000000000000000000000000000000000000000000000000000000000000000000000000000000000000000000000000010000000000000000000000000000000000000000000000000000800000000000000000000000000000000000000000000000000000000000000000000000002000000000000000000000000000000000000000000000000000000000000000000000000000'), 'status': 1, 'to': '0xdfc6110cd3e8de305c525292e55be1bc3179b8f6', 'transactionHash': HexBytes('0x0026ac62a26d86951718f5def35485e0b20d474f3208481011e95690f81a7f37'), 'transactionIndex': 13})\n"
     ]
    }
   ],
   "source": [
    "print(clientA.ping_client())"
   ]
  },
  {
   "cell_type": "code",
   "execution_count": null,
   "metadata": {},
   "outputs": [],
   "source": []
  }
 ],
 "metadata": {
  "kernelspec": {
   "display_name": "Python 3",
   "language": "python",
   "name": "python3"
  },
  "language_info": {
   "codemirror_mode": {
    "name": "ipython",
    "version": 3
   },
   "file_extension": ".py",
   "mimetype": "text/x-python",
   "name": "python",
   "nbconvert_exporter": "python",
   "pygments_lexer": "ipython3",
   "version": "3.6.4"
  }
 },
 "nbformat": 4,
 "nbformat_minor": 2
}
