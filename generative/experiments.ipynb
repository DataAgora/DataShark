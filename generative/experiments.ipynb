{
 "cells": [
  {
   "cell_type": "markdown",
   "metadata": {},
   "source": [
    "# What is Data.py\n",
    "\n",
    "So the goal is to build a generative model for our data. That is, given a few datapoints from some customer, how well does it match our own data distribution? What datapoints do we have that are most similar to the customers (so that we can provide them with new data)? How can we learn a few important features of our data so that it is easier to find similarities/trends and do analysis?\n",
    "\n",
    "## Data.py is an entry-level attempt at this first question\n",
    "\n",
    "From the existing datapoints, we estimate a mean and covariance from our data samples. Then, we just choose one data point from our sample (but this can ideally be set to a specific customer point that a customer gives us), and estimate the probability of that point coming from our data distribution (or how likely it is under our data distribution). This just gives us an estimate of how well that point fits our data.\n",
    "\n",
    "# Bugs\n",
    "\n",
    "So, it turns out that the covariance matrix is singular because the data matrix is ill-conditioned. Thus, data.py doesn't actually work right now. The data first needs to be featurized/extracted correctly into a proper data matrix, so that the covariance matrix is no longer singular. Then this approach should work.\n",
    "\n",
    "# What's next\n",
    "\n",
    "Try new methods for generative modeling. Clustering, and then doing some gaussian estimation. Or using a Gaussian Mixture Model. Or some type of deep generative modeling (probably should get the simple ones working first though). Also, if the customer gives us a distribution of datapoints, we can measure KL divergences (or any other distribution divergence measure, like a symmetric measure such as Shannon Jensen might be good) to measure how similar/dissimilar the distributions are. I think exploring along these lines is a good starting point."
   ]
  },
  {
   "cell_type": "code",
   "execution_count": 175,
   "metadata": {
    "collapsed": true
   },
   "outputs": [],
   "source": [
    "import numpy as np \n",
    "import pandas as pd \n",
    "import os\n",
    "from scipy.stats import multivariate_normal\n",
    "from sklearn import preprocessing\n",
    "from sklearn.decomposition import PCA"
   ]
  },
  {
   "cell_type": "code",
   "execution_count": 176,
   "metadata": {
    "collapsed": true
   },
   "outputs": [],
   "source": [
    "class DataManager:\n",
    "    DATA_FOLDER = 'data/'\n",
    "    \n",
    "    def __init__(self):\n",
    "        self.fake2realid = {}\n",
    "        self.real2fakeid = {}\n",
    "        self._load_user_data()\n",
    "        self._load_data_matrix()\n",
    "        self._preprocess_data_matrix()\n",
    "        \n",
    "    def get_data_matrix(self):\n",
    "        return self._data_matrix\n",
    "        \n",
    "    def get_user_data(self):\n",
    "        return self._user_data\n",
    "        \n",
    "    def _load_user_data(self):\n",
    "        user_data = {}\n",
    "        for filename in os.listdir(self.DATA_FOLDER):\n",
    "            df = pd.read_csv(self.DATA_FOLDER + filename)\n",
    "            df = df._get_numeric_data()\n",
    "            for id_, samples in df.groupby('Id'):\n",
    "                if id_ not in user_data:\n",
    "                    user_data[id_] = []\n",
    "                for sample in samples.as_matrix():\n",
    "                    user_data[id_].extend(sample[1:]) # remove id\n",
    "        self._user_data = user_data\n",
    "\n",
    "    def _load_data_matrix(self):   \n",
    "        data_matrix = []\n",
    "        i = 0\n",
    "        for id_, data in self._user_data.items():\n",
    "            self.fake2realid[i] = id_\n",
    "            self.real2fakeid[id_] = i\n",
    "            data_matrix.append(np.array([i] + data))\n",
    "            i += 1\n",
    "        #data_matrix = np.array(data_matrix)\n",
    "        self._data_matrix = data_matrix\n",
    "        \n",
    "    def _preprocess_data_matrix(self):\n",
    "        pass"
   ]
  },
  {
   "cell_type": "code",
   "execution_count": 177,
   "metadata": {
    "collapsed": true,
    "scrolled": false
   },
   "outputs": [],
   "source": [
    "data_manager = DataManager()\n",
    "data_matrix = data_manager.get_data_matrix()"
   ]
  },
  {
   "cell_type": "code",
   "execution_count": 178,
   "metadata": {
    "collapsed": true,
    "scrolled": true
   },
   "outputs": [],
   "source": [
    "df = pd.DataFrame(data_matrix)\n",
    "df = df.fillna(0)\n",
    "#df"
   ]
  },
  {
   "cell_type": "code",
   "execution_count": 179,
   "metadata": {
    "collapsed": true
   },
   "outputs": [],
   "source": [
    "scaler = preprocessing.StandardScaler()\n",
    "np_scaled = scaler.fit_transform(df)\n",
    "df_normalized = pd.DataFrame(np_scaled)\n",
    "#df_normalized"
   ]
  },
  {
   "cell_type": "code",
   "execution_count": 217,
   "metadata": {},
   "outputs": [
    {
     "name": "stdout",
     "output_type": "stream",
     "text": [
      "[ 129.74706989   93.62941561]\n",
      "[  4.30631961e-16   5.51747200e-16]\n"
     ]
    },
    {
     "data": {
      "image/png": "[encoded data removed]",
      "text/plain": [
       "<matplotlib.figure.Figure at 0x120b491d0>"
      ]
     },
     "metadata": {},
     "output_type": "display_data"
    }
   ],
   "source": [
    "data_matrix2 = df_normalized.as_matrix()\n",
    "\n",
    "pca = PCA(n_components=2)\n",
    "reduced_X = pca.fit_transform(data_matrix2)\n",
    "\n",
    "mean = reduced_X.mean(axis=0)\n",
    "covariance = np.cov(reduced_X.T)\n",
    "\n",
    "print(np.linalg.svd(covariance)[1])\n",
    "print(mean)\n",
    "\n",
    "#new_point = reduced_X[0] # SET TO NEW INPUT POINT\n",
    "prob = []\n",
    "for pt in reduced_X:\n",
    "    new_prob = multivariate_normal.pdf(pt, mean=mean, cov=covariance)\n",
    "    prob.append(new_prob)\n",
    "    #print('probability of new point under existing data:', new_prob * 100)\n",
    "\n",
    "import matplotlib.pyplot as plt\n",
    "plt.scatter([i for i in range(len(prob))], prob)\n",
    "plt.show()"
   ]
  },
  {
   "cell_type": "code",
   "execution_count": null,
   "metadata": {
    "collapsed": true
   },
   "outputs": [],
   "source": []
  },
  {
   "cell_type": "code",
   "execution_count": null,
   "metadata": {
    "collapsed": true
   },
   "outputs": [],
   "source": []
  }
 ],
 "metadata": {
  "kernelspec": {
   "display_name": "Python 3",
   "language": "python",
   "name": "python3"
  },
  "language_info": {
   "codemirror_mode": {
    "name": "ipython",
    "version": 3
   },
   "file_extension": ".py",
   "mimetype": "text/x-python",
   "name": "python",
   "nbconvert_exporter": "python",
   "pygments_lexer": "ipython3",
   "version": "3.6.1"
  }
 },
 "nbformat": 4,
 "nbformat_minor": 2
}
