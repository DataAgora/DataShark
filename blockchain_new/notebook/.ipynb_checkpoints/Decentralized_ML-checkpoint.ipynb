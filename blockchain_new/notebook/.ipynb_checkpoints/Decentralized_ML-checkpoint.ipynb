{
 "cells": [
  {
   "cell_type": "markdown",
   "metadata": {},
   "source": [
    "# Decentralized Machine Learning"
   ]
  },
  {
   "cell_type": "code",
   "execution_count": 33,
   "metadata": {},
   "outputs": [],
   "source": [
    "import warnings\n",
    "warnings.simplefilter('ignore')\n",
    "# warnings.filterwarnings('ignore')"
   ]
  },
  {
   "cell_type": "markdown",
   "metadata": {},
   "source": [
    "### Client Setup"
   ]
  },
  {
   "cell_type": "code",
   "execution_count": 34,
   "metadata": {},
   "outputs": [
    {
     "name": "stdout",
     "output_type": "stream",
     "text": [
      "0x7514ab5634b26643419db709b435d96a6f33a50c\n",
      "0\n",
      "9999999999\n"
     ]
    }
   ],
   "source": [
    "from web3 import Web3, HTTPProvider, IPCProvider\n",
    "# from eth_tester import EthereumTester\n",
    "\n",
    "# t = EthereumTester()\n",
    "# print(t.get_accounts())\n",
    "\n",
    "web3 = Web3(HTTPProvider('http://localhost:8545'))\n",
    "# web3v2 = Web3(HTTPProvider('https://ropsten.infura.io/c51VIUAGmJ7HIW2QwM3J'))\n",
    "# web3 = Web3(web3.currentProvider)\n",
    "\n",
    "PASSPHRASE = 'panda'\n",
    "TEST_ACCOUNT = web3.eth.coinbase\n",
    "\n",
    "# web3.eth.blockNumber\n",
    "acct = web3.personal.newAccount(PASSPHRASE)\n",
    "print(acct)\n",
    "print(web3.eth.getBalance(acct))\n",
    "web3.eth.sendTransaction({\"from\": TEST_ACCOUNT, \"to\": acct, \"value\": 9999999999})\n",
    "print(web3.eth.getBalance(acct))"
   ]
  },
  {
   "cell_type": "markdown",
   "metadata": {},
   "source": [
    "### Contract Deployment"
   ]
  },
  {
   "cell_type": "code",
   "execution_count": 40,
   "metadata": {},
   "outputs": [
    {
     "name": "stdout",
     "output_type": "stream",
     "text": [
      "{'<stdin>:Query': {'abi': [{'constant': True, 'inputs': [], 'name': 'active', 'outputs': [{'name': '', 'type': 'bool'}], 'payable': False, 'stateMutability': 'view', 'type': 'function'}, {'constant': True, 'inputs': [], 'name': 'model', 'outputs': [{'name': 'data', 'type': 'bytes'}], 'payable': False, 'stateMutability': 'view', 'type': 'function'}, {'constant': False, 'inputs': [], 'name': 'inverseScale', 'outputs': [], 'payable': False, 'stateMutability': 'nonpayable', 'type': 'function'}, {'constant': True, 'inputs': [], 'name': 'originator', 'outputs': [{'name': '', 'type': 'address'}], 'payable': False, 'stateMutability': 'view', 'type': 'function'}, {'constant': True, 'inputs': [{'name': '', 'type': 'uint256'}], 'name': 'contributors', 'outputs': [{'name': '', 'type': 'address'}], 'payable': False, 'stateMutability': 'view', 'type': 'function'}, {'constant': True, 'inputs': [], 'name': 'searchFields', 'outputs': [{'name': '', 'type': 'bytes'}], 'payable': False, 'stateMutability': 'view', 'type': 'function'}, {'constant': True, 'inputs': [{'name': '', 'type': 'address'}], 'name': 'contributionLevel', 'outputs': [{'name': '', 'type': 'uint8'}], 'payable': False, 'stateMutability': 'view', 'type': 'function'}, {'constant': True, 'inputs': [], 'name': 'parent', 'outputs': [{'name': '', 'type': 'address'}], 'payable': False, 'stateMutability': 'view', 'type': 'function'}, {'constant': True, 'inputs': [], 'name': 'bounty', 'outputs': [{'name': '', 'type': 'uint256'}], 'payable': False, 'stateMutability': 'view', 'type': 'function'}, {'constant': True, 'inputs': [], 'name': 'getModel', 'outputs': [{'name': '', 'type': 'bytes'}], 'payable': False, 'stateMutability': 'view', 'type': 'function'}, {'constant': True, 'inputs': [], 'name': 'id', 'outputs': [{'name': '', 'type': 'uint256'}], 'payable': False, 'stateMutability': 'view', 'type': 'function'}, {'constant': True, 'inputs': [], 'name': 'numberOfDataPoints', 'outputs': [{'name': '', 'type': 'uint32'}], 'payable': False, 'stateMutability': 'view', 'type': 'function'}, {'constant': False, 'inputs': [{'name': 'update', 'type': 'int256[][]'}, {'name': 'keys', 'type': 'uint256[]'}, {'name': 'metagraph', 'type': 'bytes'}, {'name': 'numData', 'type': 'int256'}], 'name': 'sendResponse', 'outputs': [], 'payable': False, 'stateMutability': 'nonpayable', 'type': 'function'}, {'constant': False, 'inputs': [], 'name': 'cancel', 'outputs': [], 'payable': False, 'stateMutability': 'nonpayable', 'type': 'function'}, {'inputs': [{'name': '_originator', 'type': 'address'}, {'name': '_bounty', 'type': 'uint256'}, {'name': '_searchFields', 'type': 'bytes'}, {'name': '_id', 'type': 'uint256'}, {'name': 'outreach', 'type': 'address[]'}], 'payable': False, 'stateMutability': 'nonpayable', 'type': 'constructor'}, {'payable': True, 'stateMutability': 'payable', 'type': 'fallback'}, {'anonymous': False, 'inputs': [{'indexed': False, 'name': 'client', 'type': 'address'}], 'name': 'ClientSelected', 'type': 'event'}, {'anonymous': False, 'inputs': [{'indexed': False, 'name': 'amount', 'type': 'uint256'}], 'name': 'ResponseReceived', 'type': 'event'}], 'asm': None, 'bin': '', 'bin-runtime': '', 'clone-bin': '', 'devdoc': '{\"methods\":{}}', 'opcodes': '', 'userdoc': '{\"methods\":{}}'}}\n"
     ]
    },
    {
     "ename": "ValueError",
     "evalue": "Cannot deploy a contract that does not have 'bytecode' associated with it",
     "output_type": "error",
     "traceback": [
      "\u001b[0;31m---------------------------------------------------------------------------\u001b[0m",
      "\u001b[0;31mValueError\u001b[0m                                Traceback (most recent call last)",
      "\u001b[0;32m<ipython-input-40-de0e00d9236a>\u001b[0m in \u001b[0;36m<module>\u001b[0;34m()\u001b[0m\n\u001b[1;32m     38\u001b[0m \u001b[0mweb3\u001b[0m\u001b[0;34m.\u001b[0m\u001b[0mpersonal\u001b[0m\u001b[0;34m.\u001b[0m\u001b[0munlockAccount\u001b[0m\u001b[0;34m(\u001b[0m\u001b[0macct\u001b[0m\u001b[0;34m,\u001b[0m \u001b[0mPASSPHRASE\u001b[0m\u001b[0;34m)\u001b[0m\u001b[0;34m\u001b[0m\u001b[0m\n\u001b[1;32m     39\u001b[0m \u001b[0;34m\u001b[0m\u001b[0m\n\u001b[0;32m---> 40\u001b[0;31m \u001b[0maddress\u001b[0m \u001b[0;34m=\u001b[0m \u001b[0mdeploy_contract\u001b[0m\u001b[0;34m(\u001b[0m\u001b[0mweb3\u001b[0m\u001b[0;34m,\u001b[0m \u001b[0mcontract_interface\u001b[0m\u001b[0;34m)\u001b[0m\u001b[0;34m\u001b[0m\u001b[0m\n\u001b[0m\u001b[1;32m     41\u001b[0m \u001b[0mprint\u001b[0m\u001b[0;34m(\u001b[0m\u001b[0;34m\"Deployed {0} to: {1}\\n\"\u001b[0m\u001b[0;34m.\u001b[0m\u001b[0mformat\u001b[0m\u001b[0;34m(\u001b[0m\u001b[0mcontract_id\u001b[0m\u001b[0;34m,\u001b[0m \u001b[0maddress\u001b[0m\u001b[0;34m)\u001b[0m\u001b[0;34m)\u001b[0m\u001b[0;34m\u001b[0m\u001b[0m\n",
      "\u001b[0;32m<ipython-input-40-de0e00d9236a>\u001b[0m in \u001b[0;36mdeploy_contract\u001b[0;34m(w3, contract_interface)\u001b[0m\n\u001b[1;32m     16\u001b[0m     tx_hash = w3.eth.contract(\n\u001b[1;32m     17\u001b[0m         \u001b[0mabi\u001b[0m\u001b[0;34m=\u001b[0m\u001b[0mcontract_interface\u001b[0m\u001b[0;34m[\u001b[0m\u001b[0;34m'abi'\u001b[0m\u001b[0;34m]\u001b[0m\u001b[0;34m,\u001b[0m\u001b[0;34m\u001b[0m\u001b[0m\n\u001b[0;32m---> 18\u001b[0;31m         bytecode=contract_interface['bin']).deploy({\"from\": acct})\n\u001b[0m\u001b[1;32m     19\u001b[0m \u001b[0;34m\u001b[0m\u001b[0m\n\u001b[1;32m     20\u001b[0m     \u001b[0maddress\u001b[0m \u001b[0;34m=\u001b[0m \u001b[0mw3\u001b[0m\u001b[0;34m.\u001b[0m\u001b[0meth\u001b[0m\u001b[0;34m.\u001b[0m\u001b[0mgetTransactionReceipt\u001b[0m\u001b[0;34m(\u001b[0m\u001b[0mtx_hash\u001b[0m\u001b[0;34m)\u001b[0m\u001b[0;34m[\u001b[0m\u001b[0;34m'contractAddress'\u001b[0m\u001b[0;34m]\u001b[0m\u001b[0;34m\u001b[0m\u001b[0m\n",
      "\u001b[0;32m/usr/local/lib/python3.6/site-packages/web3/contract.py\u001b[0m in \u001b[0;36mdeploy\u001b[0;34m(cls, transaction, args, kwargs)\u001b[0m\n\u001b[1;32m    292\u001b[0m         \u001b[0;32mif\u001b[0m \u001b[0;32mnot\u001b[0m \u001b[0mcls\u001b[0m\u001b[0;34m.\u001b[0m\u001b[0mbytecode\u001b[0m\u001b[0;34m:\u001b[0m\u001b[0;34m\u001b[0m\u001b[0m\n\u001b[1;32m    293\u001b[0m             raise ValueError(\n\u001b[0;32m--> 294\u001b[0;31m                 \u001b[0;34m\"Cannot deploy a contract that does not have 'bytecode' associated \"\u001b[0m\u001b[0;34m\u001b[0m\u001b[0m\n\u001b[0m\u001b[1;32m    295\u001b[0m                 \u001b[0;34m\"with it\"\u001b[0m\u001b[0;34m\u001b[0m\u001b[0m\n\u001b[1;32m    296\u001b[0m             )\n",
      "\u001b[0;31mValueError\u001b[0m: Cannot deploy a contract that does not have 'bytecode' associated with it"
     ]
    }
   ],
   "source": [
    "from solc import compile_source\n",
    "\n",
    "\n",
    "CONTRACT_NAME = 'Greeter.sol'\n",
    "# CONTRACT_NAME = '../contracts/Query.sol'\n",
    "# CONTRACT_NAME = 'Query.sol'\n",
    "\n",
    "def compile_source_file(file_path):\n",
    "   with open(file_path, 'r') as f:\n",
    "      source = f.read()\n",
    "\n",
    "   return compile_source(source)\n",
    "\n",
    "\n",
    "def deploy_contract(w3, contract_interface):\n",
    "    tx_hash = w3.eth.contract(\n",
    "        abi=contract_interface['abi'],\n",
    "        bytecode=contract_interface['bin']).deploy({\"from\": acct})\n",
    "\n",
    "    address = w3.eth.getTransactionReceipt(tx_hash)['contractAddress']\n",
    "    return address\n",
    "\n",
    "\n",
    "def wait_for_receipt(w3, tx_hash, poll_interval):\n",
    "   while True:\n",
    "       tx_receipt = w3.eth.getTransactionReceipt(tx_hash)\n",
    "       if tx_receipt:\n",
    "         return tx_receipt\n",
    "       time.sleep(poll_interval)\n",
    "    \n",
    "contract_source_path = CONTRACT_NAME\n",
    "compiled_sol = compile_source_file(contract_source_path)\n",
    "\n",
    "print(compiled_sol)\n",
    "\n",
    "contract_id, contract_interface = compiled_sol.popitem()\n",
    "\n",
    "web3.personal.unlockAccount(acct, PASSPHRASE)\n",
    "\n",
    "address = deploy_contract(web3, contract_interface)\n",
    "print(\"Deployed {0} to: {1}\\n\".format(contract_id, address))"
   ]
  },
  {
   "cell_type": "markdown",
   "metadata": {},
   "source": [
    "### Event Listening"
   ]
  },
  {
   "cell_type": "code",
   "execution_count": 10,
   "metadata": {},
   "outputs": [
    {
     "name": "stderr",
     "output_type": "stream",
     "text": [
      "/usr/local/lib/python3.6/site-packages/web3/utils/decorators.py:17: DeprecationWarning: pastEvents is deprecated in favor of an upcoming v4 method: eventFilter()\n",
      "  return self.method(obj, *args, **kwargs)\n",
      "/usr/local/lib/python3.6/site-packages/eth_utils/string.py:22: DeprecationWarning: The `force_obj_to_text` function has been deprecated and will be removed in a subsequent release of the eth-utils library. UTF8 cannot encode some byte values in the 0-255 range which makes naive coersion between bytes and text representations impossible without explicitly declared encodings.\n",
      "  \"declared encodings.\".format(fn.__name__)\n",
      "/usr/local/lib/python3.6/site-packages/eth_utils/string.py:22: DeprecationWarning: The `force_text` function has been deprecated and will be removed in a subsequent release of the eth-utils library. UTF8 cannot encode some byte values in the 0-255 range which makes naive coersion between bytes and text representations impossible without explicitly declared encodings.\n",
      "  \"declared encodings.\".format(fn.__name__)\n",
      "/usr/local/lib/python3.6/site-packages/eth_utils/string.py:22: DeprecationWarning: The `force_bytes` function has been deprecated and will be removed in a subsequent release of the eth-utils library. UTF8 cannot encode some byte values in the 0-255 range which makes naive coersion between bytes and text representations impossible without explicitly declared encodings.\n",
      "  \"declared encodings.\".format(fn.__name__)\n",
      "/usr/local/lib/python3.6/site-packages/web3/utils/decorators.py:17: DeprecationWarning: on is deprecated in favor of an upcoming v4 method: eventFilter()\n",
      "  return self.method(obj, *args, **kwargs)\n",
      "/usr/local/lib/python3.6/site-packages/eth_utils/string.py:22: DeprecationWarning: The `force_bytes` function has been deprecated and will be removed in a subsequent release of the eth-utils library. UTF8 cannot encode some byte values in the 0-255 range which makes naive coersion between bytes and text representations impossible without explicitly declared encodings.\n",
      "  \"declared encodings.\".format(fn.__name__)\n",
      "/usr/local/lib/python3.6/site-packages/eth_utils/string.py:22: DeprecationWarning: The `force_obj_to_bytes` function has been deprecated and will be removed in a subsequent release of the eth-utils library. UTF8 cannot encode some byte values in the 0-255 range which makes naive coersion between bytes and text representations impossible without explicitly declared encodings.\n",
      "  \"declared encodings.\".format(fn.__name__)\n",
      "/usr/local/lib/python3.6/site-packages/eth_utils/formatting.py:20: DeprecationWarning: The `is_prefixed` function has been deprecated and will be removed in a subsequent release of the eth-utils library. Now that eth-utils is compatible with Python3, we encourage developers to use stdlib functions where possible.\n",
      "  \"functions where possible.\".format(fn.__name__)\n",
      "/usr/local/lib/python3.6/site-packages/eth_utils/string.py:22: DeprecationWarning: The `force_obj_to_text` function has been deprecated and will be removed in a subsequent release of the eth-utils library. UTF8 cannot encode some byte values in the 0-255 range which makes naive coersion between bytes and text representations impossible without explicitly declared encodings.\n",
      "  \"declared encodings.\".format(fn.__name__)\n",
      "/usr/local/lib/python3.6/site-packages/eth_utils/string.py:22: DeprecationWarning: The `force_text` function has been deprecated and will be removed in a subsequent release of the eth-utils library. UTF8 cannot encode some byte values in the 0-255 range which makes naive coersion between bytes and text representations impossible without explicitly declared encodings.\n",
      "  \"declared encodings.\".format(fn.__name__)\n",
      "/usr/local/lib/python3.6/site-packages/web3/utils/filters.py:181: DeprecationWarning: LogFilter.get has been deprecated and will be removed from the LogFilter class in future releases. Update your code to use the new methods: LogFilter.get_new_entries and LogFilter.get_all_entries.\n",
      "  \"LogFilter.get has been deprecated and \"\n",
      "/usr/local/lib/python3.6/site-packages/web3/utils/filters.py:103: DeprecationWarning: Asynchronous filters have been deprecated and `watch` will be removed from the Filter class in future releases.  Prepare to update your code to work synchronously or handle asynchrony explicitly with a third party library, when switching to web3 version 4.\n",
      "  \"third party library, when switching to web3 version 4.\".format(method_name)\n",
      "/usr/local/lib/python3.6/site-packages/eth_abi/abi.py:92: DeprecationWarning: Automatic inference of hex encoded data has been deprecated. Please adjust your code to ensure that the data argument for `decode_single` is a byte string\n",
      "  \"Automatic inference of hex encoded data has been deprecated. \"\n"
     ]
    },
    {
     "name": "stdout",
     "output_type": "stream",
     "text": [
      "Contract address: 0xbE8b0D9cA983AaBD97523AAD450293905C647402\n",
      "Event: Greeting\n",
      "Arg: {'person': '0xf3f4200CE0ee2ff59Cd2Ce5292a6b6D8dC83587C'}\n"
     ]
    }
   ],
   "source": [
    "contract_obj = web3.eth.contract(\n",
    "   address=address,\n",
    "   abi=contract_interface['abi'])\n",
    "\n",
    "event_filter = contract_obj.pastEvents(\"Greeting\")\n",
    "event_filter.get()\n",
    "\n",
    "def txn_digest(txn):\n",
    "    return \"Contract address: {0}\\nEvent: {1}\\nArg: {2}\".format(\n",
    "        txn['address'], txn['event'], txn['args'])\n",
    "\n",
    "def event_callback(arg):\n",
    "    print(txn_digest(arg))\n",
    "\n",
    "event_filter.watch(event_callback)\n",
    "\n",
    "# contract_obj.events\n",
    "# f = web3.utils.filters.LogFilter()\n",
    "# web3.eth.filter\n",
    "# f.get_all_entries()\n",
    "\n",
    "\n",
    "\n",
    "# deploy_txn = token_contract.constructor(web3.eth.coinbase, 12345).transact()\n",
    "# txn_receipt = web3.eth.getTransactionReceipt(deploy_txn)\n",
    "# txn_receipt['contractAddress']"
   ]
  },
  {
   "cell_type": "code",
   "execution_count": null,
   "metadata": {},
   "outputs": [],
   "source": []
  }
 ],
 "metadata": {
  "kernelspec": {
   "display_name": "Python 3",
   "language": "python",
   "name": "python3"
  },
  "language_info": {
   "codemirror_mode": {
    "name": "ipython",
    "version": 3
   },
   "file_extension": ".py",
   "mimetype": "text/x-python",
   "name": "python",
   "nbconvert_exporter": "python",
   "pygments_lexer": "ipython3",
   "version": "3.6.4"
  }
 },
 "nbformat": 4,
 "nbformat_minor": 2
}
