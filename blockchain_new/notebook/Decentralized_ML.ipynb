{
 "cells": [
  {
   "cell_type": "markdown",
   "metadata": {},
   "source": [
    "# Decentralized Machine Learning"
   ]
  },
  {
   "cell_type": "code",
   "execution_count": 41,
   "metadata": {},
   "outputs": [],
   "source": [
    "import warnings\n",
    "warnings.simplefilter('ignore')\n",
    "# warnings.filterwarnings('ignore')"
   ]
  },
  {
   "cell_type": "markdown",
   "metadata": {},
   "source": [
    "### Client Setup"
   ]
  },
  {
   "cell_type": "code",
   "execution_count": 61,
   "metadata": {},
   "outputs": [
    {
     "name": "stdout",
     "output_type": "stream",
     "text": [
      "New Account: 0x3229616ebb8f78D6a42F5395A55D9F53C59b3965\n",
      "Balance: 0\n",
      "Balance: 9999999999\n"
     ]
    }
   ],
   "source": [
    "from web3 import Web3, HTTPProvider\n",
    "\n",
    "\n",
    "web3 = Web3(HTTPProvider('http://localhost:8545'))\n",
    "# web3 = Web3(web3.currentProvider)\n",
    "\n",
    "PASSPHRASE = 'panda'\n",
    "TEST_ACCOUNT = web3.eth.coinbase\n",
    "\n",
    "acct = web3.personal.newAccount(PASSPHRASE)\n",
    "print(\"New Account:\", acct)\n",
    "print(\"Balance:\", web3.eth.getBalance(acct))\n",
    "web3.eth.sendTransaction({\"from\": TEST_ACCOUNT, \"to\": acct, \"value\": 9999999999})\n",
    "print(\"Balance:\", web3.eth.getBalance(acct))\n",
    "# print(\"Accounts on the Network:\", web3.eth.accounts)\n",
    "# print(\"Personal Accounts:\", web3.personal.listAccounts)"
   ]
  },
  {
   "cell_type": "markdown",
   "metadata": {},
   "source": [
    "### Contract Deployment"
   ]
  },
  {
   "cell_type": "code",
   "execution_count": 66,
   "metadata": {},
   "outputs": [
    {
     "name": "stdout",
     "output_type": "stream",
     "text": [
      "Deployed Query to: 0x4651c03987103098EA9765444B0B582B6623CDEf\n",
      "\n"
     ]
    }
   ],
   "source": [
    "from solc import compile_source\n",
    "import pprint\n",
    "\n",
    "\n",
    "# CONTRACT_NAME = 'Greeter.sol'\n",
    "CONTRACT_NAME = '../contracts/Query.sol'\n",
    "ARG1 = 3\n",
    "ARG2 = [0, 1, 2]\n",
    "\n",
    "def compile_source_file(file_path):\n",
    "   with open(file_path, 'r') as f:\n",
    "      source = f.read()\n",
    "\n",
    "   return compile_source(source)\n",
    "\n",
    "\n",
    "def deploy_contract(w3, contract_interface, arg):\n",
    "    tx_hash = w3.eth.contract(\n",
    "        abi=contract_interface['abi'],\n",
    "        bytecode=contract_interface['bin']).constructor(ARG1, ARG2).transact({\"from\": acct})\n",
    "\n",
    "    address = w3.eth.getTransactionReceipt(tx_hash)['contractAddress']\n",
    "    return address\n",
    "\n",
    "\n",
    "def wait_for_receipt(w3, tx_hash, poll_interval):\n",
    "   while True:\n",
    "       tx_receipt = w3.eth.getTransactionReceipt(tx_hash)\n",
    "       if tx_receipt:\n",
    "         return tx_receipt\n",
    "       time.sleep(poll_interval)\n",
    "    \n",
    "contract_source_path = CONTRACT_NAME\n",
    "compiled_sol = compile_source_file(contract_source_path)\n",
    "\n",
    "pp = pprint.PrettyPrinter()\n",
    "\n",
    "contract_id, contract_interface = compiled_sol.popitem()\n",
    "# pp.pprint(contract_interface['abi'])\n",
    "\n",
    "# print(web3.eth.accounts)\n",
    "# print(acct)\n",
    "web3.personal.unlockAccount(acct, PASSPHRASE)\n",
    "\n",
    "address = deploy_contract(web3, contract_interface, VECLEN)\n",
    "print(\"Deployed {0} to: {1}\\n\".format(contract_id.replace('<stdin>:', ''), address))"
   ]
  },
  {
   "cell_type": "markdown",
   "metadata": {},
   "source": [
    "### Event Listening"
   ]
  },
  {
   "cell_type": "code",
   "execution_count": 67,
   "metadata": {},
   "outputs": [
    {
     "name": "stdout",
     "output_type": "stream",
     "text": [
      "AttributeDict({'args': AttributeDict({'n': 1}), 'event': 'ResponseReceived', 'logIndex': 0, 'transactionIndex': 0, 'transactionHash': HexBytes('0xfc60f7dc6775103bee477cc5471385f182d2557300062036960a234434d802c2'), 'address': '0x4651c03987103098EA9765444B0B582B6623CDEf', 'blockHash': HexBytes('0x8f2eddfa5b390c442467842e759405e19fb5fe2fdc389c12c2c5ef04a86aaa4a'), 'blockNumber': 35})\n",
      "Contract address: 0x4651c03987103098EA9765444B0B582B6623CDEf\n",
      "Event: ResponseReceived\n",
      "Arg: AttributeDict({'n': 1})\n"
     ]
    },
    {
     "ename": "ValueError",
     "evalue": "{'message': 'VM Exception while processing transaction: invalid opcode', 'code': -32000, 'data': {'stack': 'c: VM Exception while processing transaction: invalid opcode\\n    at Function.c.fromResults (/usr/local/lib/node_modules/ganache-cli/build/cli.node.js:2:313802)\\n    at /usr/local/lib/node_modules/ganache-cli/build/cli.node.js:2:537769\\n    at /usr/local/lib/node_modules/ganache-cli/build/cli.node.js:2:2006464\\n    at /usr/local/lib/node_modules/ganache-cli/build/cli.node.js:2:89955\\n    at /usr/local/lib/node_modules/ganache-cli/build/cli.node.js:2:75462\\n    at o (/usr/local/lib/node_modules/ganache-cli/build/cli.node.js:2:78562)\\n    at f (/usr/local/lib/node_modules/ganache-cli/build/cli.node.js:2:78484)\\n    at /usr/local/lib/node_modules/ganache-cli/build/cli.node.js:2:78286\\n    at /usr/local/lib/node_modules/ganache-cli/build/cli.node.js:2:89935\\n    at /usr/local/lib/node_modules/ganache-cli/build/cli.node.js:2:656606\\n    at l (/usr/local/lib/node_modules/ganache-cli/build/cli.node.js:2:657029)\\n    at /usr/local/lib/node_modules/ganache-cli/build/cli.node.js:2:657078\\n    at t.default (/usr/local/lib/node_modules/ganache-cli/build/cli.node.js:2:4115903)\\n    at /usr/local/lib/node_modules/ganache-cli/build/cli.node.js:2:655382\\n    at g.n.emit (/usr/local/lib/node_modules/ganache-cli/build/cli.node.js:2:2793427)\\n    at /usr/local/lib/node_modules/ganache-cli/build/cli.node.js:2:2006430\\n    at /usr/local/lib/node_modules/ganache-cli/build/cli.node.js:2:89874\\n    at o (/usr/local/lib/node_modules/ganache-cli/build/cli.node.js:2:78576)\\n    at f (/usr/local/lib/node_modules/ganache-cli/build/cli.node.js:2:78484)\\n    at /usr/local/lib/node_modules/ganache-cli/build/cli.node.js:2:78286\\n    at /usr/local/lib/node_modules/ganache-cli/build/cli.node.js:2:89935\\n    at /usr/local/lib/node_modules/ganache-cli/build/cli.node.js:2:2006409\\n    at /usr/local/lib/node_modules/ganache-cli/build/cli.node.js:2:2796209\\n    at /usr/local/lib/node_modules/ganache-cli/build/cli.node.js:2:75462\\n    at o (/usr/local/lib/node_modules/ganache-cli/build/cli.node.js:2:78562)\\n    at /usr/local/lib/node_modules/ganache-cli/build/cli.node.js:2:78600\\n    at Ut (/usr/local/lib/node_modules/ganache-cli/build/cli.node.js:2:87969)\\n    at Object.<anonymous> (/usr/local/lib/node_modules/ganache-cli/build/cli.node.js:2:78689)\\n    at /usr/local/lib/node_modules/ganache-cli/build/cli.node.js:2:2796130\\n    at /usr/local/lib/node_modules/ganache-cli/build/cli.node.js:2:78286\\n    at c (/usr/local/lib/node_modules/ganache-cli/build/cli.node.js:2:93333)\\n    at /usr/local/lib/node_modules/ganache-cli/build/cli.node.js:2:2796082\\n    at /usr/local/lib/node_modules/ganache-cli/build/cli.node.js:2:140451\\n    at /usr/local/lib/node_modules/ganache-cli/build/cli.node.js:2:321789', 'name': 'c'}}",
     "output_type": "error",
     "traceback": [
      "\u001b[0;31m---------------------------------------------------------------------------\u001b[0m",
      "\u001b[0;31mValueError\u001b[0m                                Traceback (most recent call last)",
      "\u001b[0;32m<ipython-input-67-007c89d1c3d9>\u001b[0m in \u001b[0;36m<module>\u001b[0;34m()\u001b[0m\n\u001b[1;32m     33\u001b[0m \u001b[0mcontract_obj\u001b[0m\u001b[0;34m.\u001b[0m\u001b[0mfunctions\u001b[0m\u001b[0;34m.\u001b[0m\u001b[0msendResponse\u001b[0m\u001b[0;34m(\u001b[0m\u001b[0;34m[\u001b[0m\u001b[0;36m0\u001b[0m\u001b[0;34m,\u001b[0m \u001b[0;36m1\u001b[0m\u001b[0;34m,\u001b[0m \u001b[0;36m2\u001b[0m\u001b[0;34m]\u001b[0m\u001b[0;34m,\u001b[0m \u001b[0;36m1\u001b[0m\u001b[0;34m,\u001b[0m \u001b[0;36m3\u001b[0m\u001b[0;34m)\u001b[0m\u001b[0;34m.\u001b[0m\u001b[0mtransact\u001b[0m\u001b[0;34m(\u001b[0m\u001b[0;34m{\u001b[0m\u001b[0;34m'from'\u001b[0m\u001b[0;34m:\u001b[0m \u001b[0mTEST_ACCOUNT\u001b[0m\u001b[0;34m}\u001b[0m\u001b[0;34m)\u001b[0m\u001b[0;34m\u001b[0m\u001b[0m\n\u001b[1;32m     34\u001b[0m \u001b[0mcontract_obj\u001b[0m\u001b[0;34m.\u001b[0m\u001b[0mfunctions\u001b[0m\u001b[0;34m.\u001b[0m\u001b[0msendResponse\u001b[0m\u001b[0;34m(\u001b[0m\u001b[0;34m[\u001b[0m\u001b[0;36m0\u001b[0m\u001b[0;34m,\u001b[0m \u001b[0;36m1\u001b[0m\u001b[0;34m,\u001b[0m \u001b[0;36m2\u001b[0m\u001b[0;34m]\u001b[0m\u001b[0;34m,\u001b[0m \u001b[0;36m2\u001b[0m\u001b[0;34m,\u001b[0m \u001b[0;36m3\u001b[0m\u001b[0;34m)\u001b[0m\u001b[0;34m.\u001b[0m\u001b[0mtransact\u001b[0m\u001b[0;34m(\u001b[0m\u001b[0;34m{\u001b[0m\u001b[0;34m'from'\u001b[0m\u001b[0;34m:\u001b[0m \u001b[0mTEST_ACCOUNT\u001b[0m\u001b[0;34m}\u001b[0m\u001b[0;34m)\u001b[0m\u001b[0;34m\u001b[0m\u001b[0m\n\u001b[0;32m---> 35\u001b[0;31m \u001b[0mcontract_obj\u001b[0m\u001b[0;34m.\u001b[0m\u001b[0mfunctions\u001b[0m\u001b[0;34m.\u001b[0m\u001b[0minverseScale\u001b[0m\u001b[0;34m(\u001b[0m\u001b[0;34m)\u001b[0m\u001b[0;34m.\u001b[0m\u001b[0mtransact\u001b[0m\u001b[0;34m(\u001b[0m\u001b[0;34m{\u001b[0m\u001b[0;34m'from'\u001b[0m\u001b[0;34m:\u001b[0m \u001b[0mTEST_ACCOUNT\u001b[0m\u001b[0;34m}\u001b[0m\u001b[0;34m)\u001b[0m\u001b[0;34m\u001b[0m\u001b[0m\n\u001b[0m",
      "\u001b[0;32m/usr/local/lib/python3.6/site-packages/web3/contract.py\u001b[0m in \u001b[0;36mtransact\u001b[0;34m(self, transaction)\u001b[0m\n\u001b[1;32m   1010\u001b[0m                                                \u001b[0mtransact_transaction\u001b[0m\u001b[0;34m,\u001b[0m\u001b[0;34m\u001b[0m\u001b[0m\n\u001b[1;32m   1011\u001b[0m                                                \u001b[0;34m*\u001b[0m\u001b[0mself\u001b[0m\u001b[0;34m.\u001b[0m\u001b[0margs\u001b[0m\u001b[0;34m,\u001b[0m\u001b[0;34m\u001b[0m\u001b[0m\n\u001b[0;32m-> 1012\u001b[0;31m                                                **self.kwargs)\n\u001b[0m\u001b[1;32m   1013\u001b[0m \u001b[0;34m\u001b[0m\u001b[0m\n\u001b[1;32m   1014\u001b[0m     \u001b[0;32mdef\u001b[0m \u001b[0mestimateGas\u001b[0m\u001b[0;34m(\u001b[0m\u001b[0mself\u001b[0m\u001b[0;34m,\u001b[0m \u001b[0mtransaction\u001b[0m\u001b[0;34m=\u001b[0m\u001b[0;32mNone\u001b[0m\u001b[0;34m)\u001b[0m\u001b[0;34m:\u001b[0m\u001b[0;34m\u001b[0m\u001b[0m\n",
      "\u001b[0;32m/usr/local/lib/python3.6/site-packages/web3/contract.py\u001b[0m in \u001b[0;36mtransact_with_contract_function\u001b[0;34m(abi, address, web3, function_name, transaction, *args, **kwargs)\u001b[0m\n\u001b[1;32m   1284\u001b[0m     )\n\u001b[1;32m   1285\u001b[0m \u001b[0;34m\u001b[0m\u001b[0m\n\u001b[0;32m-> 1286\u001b[0;31m     \u001b[0mtxn_hash\u001b[0m \u001b[0;34m=\u001b[0m \u001b[0mweb3\u001b[0m\u001b[0;34m.\u001b[0m\u001b[0meth\u001b[0m\u001b[0;34m.\u001b[0m\u001b[0msendTransaction\u001b[0m\u001b[0;34m(\u001b[0m\u001b[0mtransact_transaction\u001b[0m\u001b[0;34m)\u001b[0m\u001b[0;34m\u001b[0m\u001b[0m\n\u001b[0m\u001b[1;32m   1287\u001b[0m     \u001b[0;32mreturn\u001b[0m \u001b[0mtxn_hash\u001b[0m\u001b[0;34m\u001b[0m\u001b[0m\n\u001b[1;32m   1288\u001b[0m \u001b[0;34m\u001b[0m\u001b[0m\n",
      "\u001b[0;32m/usr/local/lib/python3.6/site-packages/web3/eth.py\u001b[0m in \u001b[0;36msendTransaction\u001b[0;34m(self, transaction)\u001b[0m\n\u001b[1;32m    241\u001b[0m                 \u001b[0mtransaction\u001b[0m\u001b[0;34m,\u001b[0m\u001b[0;34m\u001b[0m\u001b[0m\n\u001b[1;32m    242\u001b[0m                 \u001b[0;34m'gas'\u001b[0m\u001b[0;34m,\u001b[0m\u001b[0;34m\u001b[0m\u001b[0m\n\u001b[0;32m--> 243\u001b[0;31m                 \u001b[0mget_buffered_gas_estimate\u001b[0m\u001b[0;34m(\u001b[0m\u001b[0mself\u001b[0m\u001b[0;34m.\u001b[0m\u001b[0mweb3\u001b[0m\u001b[0;34m,\u001b[0m \u001b[0mtransaction\u001b[0m\u001b[0;34m)\u001b[0m\u001b[0;34m,\u001b[0m\u001b[0;34m\u001b[0m\u001b[0m\n\u001b[0m\u001b[1;32m    244\u001b[0m             )\n\u001b[1;32m    245\u001b[0m \u001b[0;34m\u001b[0m\u001b[0m\n",
      "\u001b[0;32m/usr/local/lib/python3.6/site-packages/web3/utils/transactions.py\u001b[0m in \u001b[0;36mget_buffered_gas_estimate\u001b[0;34m(web3, transaction, gas_buffer)\u001b[0m\n\u001b[1;32m     71\u001b[0m     \u001b[0mgas_estimate_transaction\u001b[0m \u001b[0;34m=\u001b[0m \u001b[0mdict\u001b[0m\u001b[0;34m(\u001b[0m\u001b[0;34m**\u001b[0m\u001b[0mtransaction\u001b[0m\u001b[0;34m)\u001b[0m\u001b[0;34m\u001b[0m\u001b[0m\n\u001b[1;32m     72\u001b[0m \u001b[0;34m\u001b[0m\u001b[0m\n\u001b[0;32m---> 73\u001b[0;31m     \u001b[0mgas_estimate\u001b[0m \u001b[0;34m=\u001b[0m \u001b[0mweb3\u001b[0m\u001b[0;34m.\u001b[0m\u001b[0meth\u001b[0m\u001b[0;34m.\u001b[0m\u001b[0mestimateGas\u001b[0m\u001b[0;34m(\u001b[0m\u001b[0mgas_estimate_transaction\u001b[0m\u001b[0;34m)\u001b[0m\u001b[0;34m\u001b[0m\u001b[0m\n\u001b[0m\u001b[1;32m     74\u001b[0m \u001b[0;34m\u001b[0m\u001b[0m\n\u001b[1;32m     75\u001b[0m     \u001b[0mgas_limit\u001b[0m \u001b[0;34m=\u001b[0m \u001b[0mget_block_gas_limit\u001b[0m\u001b[0;34m(\u001b[0m\u001b[0mweb3\u001b[0m\u001b[0;34m)\u001b[0m\u001b[0;34m\u001b[0m\u001b[0m\n",
      "\u001b[0;32m/usr/local/lib/python3.6/site-packages/web3/eth.py\u001b[0m in \u001b[0;36mestimateGas\u001b[0;34m(self, transaction)\u001b[0m\n\u001b[1;32m    282\u001b[0m         return self.web3.manager.request_blocking(\n\u001b[1;32m    283\u001b[0m             \u001b[0;34m\"eth_estimateGas\"\u001b[0m\u001b[0;34m,\u001b[0m\u001b[0;34m\u001b[0m\u001b[0m\n\u001b[0;32m--> 284\u001b[0;31m             \u001b[0;34m[\u001b[0m\u001b[0mtransaction\u001b[0m\u001b[0;34m]\u001b[0m\u001b[0;34m,\u001b[0m\u001b[0;34m\u001b[0m\u001b[0m\n\u001b[0m\u001b[1;32m    285\u001b[0m         )\n\u001b[1;32m    286\u001b[0m \u001b[0;34m\u001b[0m\u001b[0m\n",
      "\u001b[0;32m/usr/local/lib/python3.6/site-packages/web3/manager.py\u001b[0m in \u001b[0;36mrequest_blocking\u001b[0;34m(self, method, params)\u001b[0m\n\u001b[1;32m    104\u001b[0m \u001b[0;34m\u001b[0m\u001b[0m\n\u001b[1;32m    105\u001b[0m         \u001b[0;32mif\u001b[0m \u001b[0;34m\"error\"\u001b[0m \u001b[0;32min\u001b[0m \u001b[0mresponse\u001b[0m\u001b[0;34m:\u001b[0m\u001b[0;34m\u001b[0m\u001b[0m\n\u001b[0;32m--> 106\u001b[0;31m             \u001b[0;32mraise\u001b[0m \u001b[0mValueError\u001b[0m\u001b[0;34m(\u001b[0m\u001b[0mresponse\u001b[0m\u001b[0;34m[\u001b[0m\u001b[0;34m\"error\"\u001b[0m\u001b[0;34m]\u001b[0m\u001b[0;34m)\u001b[0m\u001b[0;34m\u001b[0m\u001b[0m\n\u001b[0m\u001b[1;32m    107\u001b[0m \u001b[0;34m\u001b[0m\u001b[0m\n\u001b[1;32m    108\u001b[0m         \u001b[0;32mreturn\u001b[0m \u001b[0mresponse\u001b[0m\u001b[0;34m[\u001b[0m\u001b[0;34m'result'\u001b[0m\u001b[0;34m]\u001b[0m\u001b[0;34m\u001b[0m\u001b[0m\n",
      "\u001b[0;31mValueError\u001b[0m: {'message': 'VM Exception while processing transaction: invalid opcode', 'code': -32000, 'data': {'stack': 'c: VM Exception while processing transaction: invalid opcode\\n    at Function.c.fromResults (/usr/local/lib/node_modules/ganache-cli/build/cli.node.js:2:313802)\\n    at /usr/local/lib/node_modules/ganache-cli/build/cli.node.js:2:537769\\n    at /usr/local/lib/node_modules/ganache-cli/build/cli.node.js:2:2006464\\n    at /usr/local/lib/node_modules/ganache-cli/build/cli.node.js:2:89955\\n    at /usr/local/lib/node_modules/ganache-cli/build/cli.node.js:2:75462\\n    at o (/usr/local/lib/node_modules/ganache-cli/build/cli.node.js:2:78562)\\n    at f (/usr/local/lib/node_modules/ganache-cli/build/cli.node.js:2:78484)\\n    at /usr/local/lib/node_modules/ganache-cli/build/cli.node.js:2:78286\\n    at /usr/local/lib/node_modules/ganache-cli/build/cli.node.js:2:89935\\n    at /usr/local/lib/node_modules/ganache-cli/build/cli.node.js:2:656606\\n    at l (/usr/local/lib/node_modules/ganache-cli/build/cli.node.js:2:657029)\\n    at /usr/local/lib/node_modules/ganache-cli/build/cli.node.js:2:657078\\n    at t.default (/usr/local/lib/node_modules/ganache-cli/build/cli.node.js:2:4115903)\\n    at /usr/local/lib/node_modules/ganache-cli/build/cli.node.js:2:655382\\n    at g.n.emit (/usr/local/lib/node_modules/ganache-cli/build/cli.node.js:2:2793427)\\n    at /usr/local/lib/node_modules/ganache-cli/build/cli.node.js:2:2006430\\n    at /usr/local/lib/node_modules/ganache-cli/build/cli.node.js:2:89874\\n    at o (/usr/local/lib/node_modules/ganache-cli/build/cli.node.js:2:78576)\\n    at f (/usr/local/lib/node_modules/ganache-cli/build/cli.node.js:2:78484)\\n    at /usr/local/lib/node_modules/ganache-cli/build/cli.node.js:2:78286\\n    at /usr/local/lib/node_modules/ganache-cli/build/cli.node.js:2:89935\\n    at /usr/local/lib/node_modules/ganache-cli/build/cli.node.js:2:2006409\\n    at /usr/local/lib/node_modules/ganache-cli/build/cli.node.js:2:2796209\\n    at /usr/local/lib/node_modules/ganache-cli/build/cli.node.js:2:75462\\n    at o (/usr/local/lib/node_modules/ganache-cli/build/cli.node.js:2:78562)\\n    at /usr/local/lib/node_modules/ganache-cli/build/cli.node.js:2:78600\\n    at Ut (/usr/local/lib/node_modules/ganache-cli/build/cli.node.js:2:87969)\\n    at Object.<anonymous> (/usr/local/lib/node_modules/ganache-cli/build/cli.node.js:2:78689)\\n    at /usr/local/lib/node_modules/ganache-cli/build/cli.node.js:2:2796130\\n    at /usr/local/lib/node_modules/ganache-cli/build/cli.node.js:2:78286\\n    at c (/usr/local/lib/node_modules/ganache-cli/build/cli.node.js:2:93333)\\n    at /usr/local/lib/node_modules/ganache-cli/build/cli.node.js:2:2796082\\n    at /usr/local/lib/node_modules/ganache-cli/build/cli.node.js:2:140451\\n    at /usr/local/lib/node_modules/ganache-cli/build/cli.node.js:2:321789', 'name': 'c'}}"
     ]
    }
   ],
   "source": [
    "def txn_digest(txn):\n",
    "    return \"Contract address: {0}\\nEvent: {1}\\nArg: {2}\".format(\n",
    "        txn['address'], txn['event'], txn['args'])\n",
    "\n",
    "def event_callback(arg):\n",
    "    print(txn_digest(arg))\n",
    "\n",
    "contract_obj = web3.eth.contract(\n",
    "   address=address,\n",
    "   abi=contract_interface['abi'])\n",
    "\n",
    "# pp.pprint(contract_obj.events)\n",
    "\n",
    "# tx_retval = contract_obj.functions.sendResponse([0, 1, 2], 1, 3).call({'from': TEST_ACCOUNT})\n",
    "tx_hash = contract_obj.functions.sendResponse([0, 1, 2], 0, 3).transact({'from': TEST_ACCOUNT})\n",
    "tx_receipt = web3.eth.getTransactionReceipt(tx_hash)\n",
    "# print(tx_receipt)\n",
    "\n",
    "ResponseReceived_event = contract_obj.events.ResponseReceived()\n",
    "\n",
    "ResponseReceived_event.createFilter(fromBlock='latest')\n",
    "# ResponseReceived_event.get_all_entries()\n",
    "# client_selected_event.createFilter({'filter': {'arg1':10}})\n",
    "\n",
    "# contract_obj.functions.keyList().call({'from': TEST_ACCOUNT})\n",
    "\n",
    "log1 = contract_obj.events.ResponseReceived().processReceipt(tx_receipt)\n",
    "# log2 = contract_obj.events.ResponseReceived().processReceipt(tx_receipt)\n",
    "\n",
    "print(log1[0])\n",
    "event_callback(log1[0])\n",
    "\n",
    "contract_obj.functions.sendResponse([0, 1, 2], 1, 3).transact({'from': TEST_ACCOUNT})\n",
    "contract_obj.functions.sendResponse([0, 1, 2], 2, 3).transact({'from': TEST_ACCOUNT})\n",
    "contract_obj.functions.inverseScale().transact({'from': TEST_ACCOUNT})"
   ]
  },
  {
   "cell_type": "code",
   "execution_count": null,
   "metadata": {},
   "outputs": [],
   "source": []
  }
 ],
 "metadata": {
  "kernelspec": {
   "display_name": "Python 3",
   "language": "python",
   "name": "python3"
  },
  "language_info": {
   "codemirror_mode": {
    "name": "ipython",
    "version": 3
   },
   "file_extension": ".py",
   "mimetype": "text/x-python",
   "name": "python",
   "nbconvert_exporter": "python",
   "pygments_lexer": "ipython3",
   "version": "3.6.4"
  }
 },
 "nbformat": 4,
 "nbformat_minor": 2
}
