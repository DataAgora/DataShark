{
 "cells": [
  {
   "cell_type": "markdown",
   "metadata": {},
   "source": [
    "# Decentralized Machine Learning"
   ]
  },
  {
   "cell_type": "code",
   "execution_count": 1,
   "metadata": {},
   "outputs": [],
   "source": [
    "import warnings\n",
    "warnings.simplefilter('ignore')\n",
    "# warnings.filterwarnings('ignore')"
   ]
  },
  {
   "cell_type": "markdown",
   "metadata": {},
   "source": [
    "### Client Setup"
   ]
  },
  {
   "cell_type": "code",
   "execution_count": 8,
   "metadata": {},
   "outputs": [
    {
     "name": "stdout",
     "output_type": "stream",
     "text": [
      "0x196A413F38CA5d90Faa0340e5812F9D5F1C74840\n",
      "0\n",
      "9999999999\n"
     ]
    }
   ],
   "source": [
    "from web3 import Web3, HTTPProvider, IPCProvider\n",
    "# from eth_tester import EthereumTester\n",
    "\n",
    "# t = EthereumTester()\n",
    "# print(t.get_accounts())\n",
    "\n",
    "web3 = Web3(HTTPProvider('http://localhost:8545'))\n",
    "# web3v2 = Web3(HTTPProvider('https://ropsten.infura.io/c51VIUAGmJ7HIW2QwM3J'))\n",
    "# web3 = Web3(web3.currentProvider)\n",
    "\n",
    "PASSPHRASE = 'panda'\n",
    "TEST_ACCOUNT = web3.eth.coinbase\n",
    "\n",
    "# web3.eth.blockNumber\n",
    "acct = web3.personal.newAccount(PASSPHRASE)\n",
    "print(acct)\n",
    "print(web3.eth.getBalance(acct))\n",
    "web3.eth.sendTransaction({\"from\": TEST_ACCOUNT, \"to\": acct, \"value\": 9999999999})\n",
    "print(web3.eth.getBalance(acct))"
   ]
  },
  {
   "cell_type": "markdown",
   "metadata": {},
   "source": [
    "### Contract Deployment"
   ]
  },
  {
   "cell_type": "code",
   "execution_count": 23,
   "metadata": {},
   "outputs": [
    {
     "name": "stdout",
     "output_type": "stream",
     "text": [
      "[{'constant': False,\n",
      "  'inputs': [{'name': 'a', 'type': 'int256[]'},\n",
      "             {'name': 'b', 'type': 'int256'}],\n",
      "  'name': 'inverseScale',\n",
      "  'outputs': [{'name': '', 'type': 'int256[]'}],\n",
      "  'payable': False,\n",
      "  'stateMutability': 'nonpayable',\n",
      "  'type': 'function'},\n",
      " {'constant': False,\n",
      "  'inputs': [{'name': 'update', 'type': 'int256[]'},\n",
      "             {'name': 'keys', 'type': 'int256[]'},\n",
      "             {'name': 'numData', 'type': 'int256'}],\n",
      "  'name': 'sendResponse',\n",
      "  'outputs': [],\n",
      "  'payable': False,\n",
      "  'stateMutability': 'nonpayable',\n",
      "  'type': 'function'},\n",
      " {'anonymous': False,\n",
      "  'inputs': [{'indexed': False, 'name': 'client', 'type': 'address'}],\n",
      "  'name': 'ClientSelected',\n",
      "  'type': 'event'},\n",
      " {'anonymous': False,\n",
      "  'inputs': [{'indexed': False, 'name': 'amount', 'type': 'uint256'}],\n",
      "  'name': 'ResponseReceived',\n",
      "  'type': 'event'}]\n",
      "Deployed <stdin>:Query to: 0x46348c7077100BCa832922475782a0bFf8459E59\n",
      "\n",
      "<web3.contract.ContractEvents object at 0x10d875cc0>\n"
     ]
    },
    {
     "name": "stderr",
     "output_type": "stream",
     "text": [
      "/usr/local/lib/python3.6/site-packages/ipykernel_launcher.py:18: DeprecationWarning: deploy is deprecated in favor of contract.constructor.transact\n"
     ]
    }
   ],
   "source": [
    "from solc import compile_source\n",
    "\n",
    "\n",
    "# CONTRACT_NAME = 'Greeter.sol'\n",
    "CONTRACT_NAME = '../contracts/Query.sol'\n",
    "# CONTRACT_NAME = 'Query.sol'\n",
    "\n",
    "def compile_source_file(file_path):\n",
    "   with open(file_path, 'r') as f:\n",
    "      source = f.read()\n",
    "\n",
    "   return compile_source(source)\n",
    "\n",
    "\n",
    "def deploy_contract(w3, contract_interface):\n",
    "    tx_hash = w3.eth.contract(\n",
    "        abi=contract_interface['abi'],\n",
    "        bytecode=contract_interface['bin']).deploy({\"from\": acct})\n",
    "\n",
    "    address = w3.eth.getTransactionReceipt(tx_hash)['contractAddress']\n",
    "    return address\n",
    "\n",
    "\n",
    "def wait_for_receipt(w3, tx_hash, poll_interval):\n",
    "   while True:\n",
    "       tx_receipt = w3.eth.getTransactionReceipt(tx_hash)\n",
    "       if tx_receipt:\n",
    "         return tx_receipt\n",
    "       time.sleep(poll_interval)\n",
    "    \n",
    "contract_source_path = CONTRACT_NAME\n",
    "compiled_sol = compile_source_file(contract_source_path)\n",
    "\n",
    "import pprint\n",
    "pp = pprint.PrettyPrinter()\n",
    "\n",
    "contract_id, contract_interface = compiled_sol.popitem()\n",
    "pp.pprint(contract_interface['abi'])\n",
    "\n",
    "web3.personal.unlockAccount(acct, PASSPHRASE)\n",
    "\n",
    "address = deploy_contract(web3, contract_interface)\n",
    "print(\"Deployed {0} to: {1}\\n\".format(contract_id, address))\n",
    "\n",
    "contract_obj = web3.eth.contract(\n",
    "   address=address,\n",
    "   abi=contract_interface['abi'])\n",
    "\n",
    "pp.pprint(contract_obj.events)"
   ]
  },
  {
   "cell_type": "markdown",
   "metadata": {},
   "source": [
    "### Event Listening"
   ]
  },
  {
   "cell_type": "code",
   "execution_count": 25,
   "metadata": {},
   "outputs": [
    {
     "name": "stdout",
     "output_type": "stream",
     "text": [
      "[5, 2, 3]\n"
     ]
    },
    {
     "ename": "ValueError",
     "evalue": "{'message': 'VM Exception while processing transaction: invalid opcode', 'code': -32000, 'data': {'stack': 'c: VM Exception while processing transaction: invalid opcode\\n    at Function.c.fromResults (/usr/local/lib/node_modules/ganache-cli/build/cli.node.js:2:313802)\\n    at /usr/local/lib/node_modules/ganache-cli/build/cli.node.js:2:537769\\n    at /usr/local/lib/node_modules/ganache-cli/build/cli.node.js:2:2006464\\n    at /usr/local/lib/node_modules/ganache-cli/build/cli.node.js:2:89955\\n    at /usr/local/lib/node_modules/ganache-cli/build/cli.node.js:2:75462\\n    at o (/usr/local/lib/node_modules/ganache-cli/build/cli.node.js:2:78562)\\n    at f (/usr/local/lib/node_modules/ganache-cli/build/cli.node.js:2:78484)\\n    at /usr/local/lib/node_modules/ganache-cli/build/cli.node.js:2:78286\\n    at /usr/local/lib/node_modules/ganache-cli/build/cli.node.js:2:89935\\n    at /usr/local/lib/node_modules/ganache-cli/build/cli.node.js:2:656606\\n    at l (/usr/local/lib/node_modules/ganache-cli/build/cli.node.js:2:657029)\\n    at /usr/local/lib/node_modules/ganache-cli/build/cli.node.js:2:657078\\n    at t.default (/usr/local/lib/node_modules/ganache-cli/build/cli.node.js:2:4115903)\\n    at /usr/local/lib/node_modules/ganache-cli/build/cli.node.js:2:655382\\n    at g.n.emit (/usr/local/lib/node_modules/ganache-cli/build/cli.node.js:2:2793427)\\n    at /usr/local/lib/node_modules/ganache-cli/build/cli.node.js:2:2006430\\n    at /usr/local/lib/node_modules/ganache-cli/build/cli.node.js:2:89874\\n    at o (/usr/local/lib/node_modules/ganache-cli/build/cli.node.js:2:78576)\\n    at f (/usr/local/lib/node_modules/ganache-cli/build/cli.node.js:2:78484)\\n    at /usr/local/lib/node_modules/ganache-cli/build/cli.node.js:2:78286\\n    at /usr/local/lib/node_modules/ganache-cli/build/cli.node.js:2:89935\\n    at /usr/local/lib/node_modules/ganache-cli/build/cli.node.js:2:2006409\\n    at /usr/local/lib/node_modules/ganache-cli/build/cli.node.js:2:2796209\\n    at /usr/local/lib/node_modules/ganache-cli/build/cli.node.js:2:75462\\n    at o (/usr/local/lib/node_modules/ganache-cli/build/cli.node.js:2:78562)\\n    at /usr/local/lib/node_modules/ganache-cli/build/cli.node.js:2:78600\\n    at Ut (/usr/local/lib/node_modules/ganache-cli/build/cli.node.js:2:87969)\\n    at Object.<anonymous> (/usr/local/lib/node_modules/ganache-cli/build/cli.node.js:2:78689)\\n    at /usr/local/lib/node_modules/ganache-cli/build/cli.node.js:2:2796130\\n    at /usr/local/lib/node_modules/ganache-cli/build/cli.node.js:2:78286\\n    at c (/usr/local/lib/node_modules/ganache-cli/build/cli.node.js:2:93333)\\n    at /usr/local/lib/node_modules/ganache-cli/build/cli.node.js:2:2796082\\n    at /usr/local/lib/node_modules/ganache-cli/build/cli.node.js:2:140451\\n    at /usr/local/lib/node_modules/ganache-cli/build/cli.node.js:2:321789', 'name': 'c'}}",
     "output_type": "error",
     "traceback": [
      "\u001b[0;31m---------------------------------------------------------------------------\u001b[0m",
      "\u001b[0;31mValueError\u001b[0m                                Traceback (most recent call last)",
      "\u001b[0;32m<ipython-input-25-e7c4eb86195a>\u001b[0m in \u001b[0;36m<module>\u001b[0;34m()\u001b[0m\n\u001b[1;32m      6\u001b[0m \u001b[0mresponse_received_event\u001b[0m\u001b[0;34m.\u001b[0m\u001b[0mget_new_entries\u001b[0m\u001b[0;34m(\u001b[0m\u001b[0;34m)\u001b[0m\u001b[0;34m\u001b[0m\u001b[0m\n\u001b[1;32m      7\u001b[0m \u001b[0mprint\u001b[0m\u001b[0;34m(\u001b[0m\u001b[0mcontract_obj\u001b[0m\u001b[0;34m.\u001b[0m\u001b[0mfunctions\u001b[0m\u001b[0;34m.\u001b[0m\u001b[0minverseScale\u001b[0m\u001b[0;34m(\u001b[0m\u001b[0;34m[\u001b[0m\u001b[0;36m5\u001b[0m\u001b[0;34m,\u001b[0m\u001b[0;36m2\u001b[0m\u001b[0;34m,\u001b[0m\u001b[0;36m3\u001b[0m\u001b[0;34m]\u001b[0m\u001b[0;34m,\u001b[0m\u001b[0;36m2\u001b[0m\u001b[0;34m)\u001b[0m\u001b[0;34m.\u001b[0m\u001b[0mcall\u001b[0m\u001b[0;34m(\u001b[0m\u001b[0;34m{\u001b[0m\u001b[0;34m'from'\u001b[0m\u001b[0;34m:\u001b[0m \u001b[0mweb3\u001b[0m\u001b[0;34m.\u001b[0m\u001b[0meth\u001b[0m\u001b[0;34m.\u001b[0m\u001b[0maccounts\u001b[0m\u001b[0;34m[\u001b[0m\u001b[0;36m0\u001b[0m\u001b[0;34m]\u001b[0m\u001b[0;34m}\u001b[0m\u001b[0;34m)\u001b[0m\u001b[0;34m)\u001b[0m\u001b[0;34m\u001b[0m\u001b[0m\n\u001b[0;32m----> 8\u001b[0;31m \u001b[0mcontract_obj\u001b[0m\u001b[0;34m.\u001b[0m\u001b[0mfunctions\u001b[0m\u001b[0;34m.\u001b[0m\u001b[0msendResponse\u001b[0m\u001b[0;34m(\u001b[0m\u001b[0;34m[\u001b[0m\u001b[0;36m1\u001b[0m\u001b[0;34m,\u001b[0m\u001b[0;36m2\u001b[0m\u001b[0;34m,\u001b[0m\u001b[0;36m3\u001b[0m\u001b[0;34m]\u001b[0m\u001b[0;34m,\u001b[0m \u001b[0;34m[\u001b[0m\u001b[0;36m1\u001b[0m\u001b[0;34m]\u001b[0m\u001b[0;34m,\u001b[0m \u001b[0;36m3\u001b[0m\u001b[0;34m)\u001b[0m\u001b[0;34m.\u001b[0m\u001b[0mcall\u001b[0m\u001b[0;34m(\u001b[0m\u001b[0;34m{\u001b[0m\u001b[0;34m'from'\u001b[0m\u001b[0;34m:\u001b[0m \u001b[0mweb3\u001b[0m\u001b[0;34m.\u001b[0m\u001b[0meth\u001b[0m\u001b[0;34m.\u001b[0m\u001b[0maccounts\u001b[0m\u001b[0;34m[\u001b[0m\u001b[0;36m0\u001b[0m\u001b[0;34m]\u001b[0m\u001b[0;34m}\u001b[0m\u001b[0;34m)\u001b[0m\u001b[0;34m\u001b[0m\u001b[0m\n\u001b[0m\u001b[1;32m      9\u001b[0m \u001b[0;31m# contract_obj.functions.sendResponse([1, 2], [1], 1).call()\u001b[0m\u001b[0;34m\u001b[0m\u001b[0;34m\u001b[0m\u001b[0m\n\u001b[1;32m     10\u001b[0m \u001b[0;34m\u001b[0m\u001b[0m\n",
      "\u001b[0;32m/usr/local/lib/python3.6/site-packages/web3/contract.py\u001b[0m in \u001b[0;36mcall\u001b[0;34m(self, transaction, block_identifier)\u001b[0m\n\u001b[1;32m    977\u001b[0m                                       \u001b[0mblock_id\u001b[0m\u001b[0;34m,\u001b[0m\u001b[0;34m\u001b[0m\u001b[0m\n\u001b[1;32m    978\u001b[0m                                       \u001b[0;34m*\u001b[0m\u001b[0mself\u001b[0m\u001b[0;34m.\u001b[0m\u001b[0margs\u001b[0m\u001b[0;34m,\u001b[0m\u001b[0;34m\u001b[0m\u001b[0m\n\u001b[0;32m--> 979\u001b[0;31m                                       **self.kwargs)\n\u001b[0m\u001b[1;32m    980\u001b[0m \u001b[0;34m\u001b[0m\u001b[0m\n\u001b[1;32m    981\u001b[0m     \u001b[0;32mdef\u001b[0m \u001b[0mtransact\u001b[0m\u001b[0;34m(\u001b[0m\u001b[0mself\u001b[0m\u001b[0;34m,\u001b[0m \u001b[0mtransaction\u001b[0m\u001b[0;34m=\u001b[0m\u001b[0;32mNone\u001b[0m\u001b[0;34m)\u001b[0m\u001b[0;34m:\u001b[0m\u001b[0;34m\u001b[0m\u001b[0m\n",
      "\u001b[0;32m/usr/local/lib/python3.6/site-packages/web3/contract.py\u001b[0m in \u001b[0;36mcall_contract_function\u001b[0;34m(abi, web3, address, normalizers, function_identifier, transaction, block_id, *args, **kwargs)\u001b[0m\n\u001b[1;32m   1205\u001b[0m         \u001b[0mreturn_data\u001b[0m \u001b[0;34m=\u001b[0m \u001b[0mweb3\u001b[0m\u001b[0;34m.\u001b[0m\u001b[0meth\u001b[0m\u001b[0;34m.\u001b[0m\u001b[0mcall\u001b[0m\u001b[0;34m(\u001b[0m\u001b[0mcall_transaction\u001b[0m\u001b[0;34m)\u001b[0m\u001b[0;34m\u001b[0m\u001b[0m\n\u001b[1;32m   1206\u001b[0m     \u001b[0;32melse\u001b[0m\u001b[0;34m:\u001b[0m\u001b[0;34m\u001b[0m\u001b[0m\n\u001b[0;32m-> 1207\u001b[0;31m         \u001b[0mreturn_data\u001b[0m \u001b[0;34m=\u001b[0m \u001b[0mweb3\u001b[0m\u001b[0;34m.\u001b[0m\u001b[0meth\u001b[0m\u001b[0;34m.\u001b[0m\u001b[0mcall\u001b[0m\u001b[0;34m(\u001b[0m\u001b[0mcall_transaction\u001b[0m\u001b[0;34m,\u001b[0m \u001b[0mblock_identifier\u001b[0m\u001b[0;34m=\u001b[0m\u001b[0mblock_id\u001b[0m\u001b[0;34m)\u001b[0m\u001b[0;34m\u001b[0m\u001b[0m\n\u001b[0m\u001b[1;32m   1208\u001b[0m \u001b[0;34m\u001b[0m\u001b[0m\n\u001b[1;32m   1209\u001b[0m     \u001b[0mfunction_abi\u001b[0m \u001b[0;34m=\u001b[0m \u001b[0mfind_matching_fn_abi\u001b[0m\u001b[0;34m(\u001b[0m\u001b[0mabi\u001b[0m\u001b[0;34m,\u001b[0m \u001b[0mfunction_identifier\u001b[0m\u001b[0;34m,\u001b[0m \u001b[0margs\u001b[0m\u001b[0;34m,\u001b[0m \u001b[0mkwargs\u001b[0m\u001b[0;34m)\u001b[0m\u001b[0;34m\u001b[0m\u001b[0m\n",
      "\u001b[0;32m/usr/local/lib/python3.6/site-packages/eth_utils/functional.py\u001b[0m in \u001b[0;36minner\u001b[0;34m(*args, **kwargs)\u001b[0m\n\u001b[1;32m     20\u001b[0m         \u001b[0;34m@\u001b[0m\u001b[0mfunctools\u001b[0m\u001b[0;34m.\u001b[0m\u001b[0mwraps\u001b[0m\u001b[0;34m(\u001b[0m\u001b[0mfn\u001b[0m\u001b[0;34m)\u001b[0m\u001b[0;34m\u001b[0m\u001b[0m\n\u001b[1;32m     21\u001b[0m         \u001b[0;32mdef\u001b[0m \u001b[0minner\u001b[0m\u001b[0;34m(\u001b[0m\u001b[0;34m*\u001b[0m\u001b[0margs\u001b[0m\u001b[0;34m,\u001b[0m \u001b[0;34m**\u001b[0m\u001b[0mkwargs\u001b[0m\u001b[0;34m)\u001b[0m\u001b[0;34m:\u001b[0m\u001b[0;34m\u001b[0m\u001b[0m\n\u001b[0;32m---> 22\u001b[0;31m             \u001b[0;32mreturn\u001b[0m \u001b[0mcallback\u001b[0m\u001b[0;34m(\u001b[0m\u001b[0mfn\u001b[0m\u001b[0;34m(\u001b[0m\u001b[0;34m*\u001b[0m\u001b[0margs\u001b[0m\u001b[0;34m,\u001b[0m \u001b[0;34m**\u001b[0m\u001b[0mkwargs\u001b[0m\u001b[0;34m)\u001b[0m\u001b[0;34m)\u001b[0m\u001b[0;34m\u001b[0m\u001b[0m\n\u001b[0m\u001b[1;32m     23\u001b[0m \u001b[0;34m\u001b[0m\u001b[0m\n\u001b[1;32m     24\u001b[0m         \u001b[0;32mreturn\u001b[0m \u001b[0minner\u001b[0m\u001b[0;34m\u001b[0m\u001b[0m\n",
      "\u001b[0;32m/usr/local/lib/python3.6/site-packages/web3/eth.py\u001b[0m in \u001b[0;36mcall\u001b[0;34m(self, transaction, block_identifier)\u001b[0m\n\u001b[1;32m    272\u001b[0m         return self.web3.manager.request_blocking(\n\u001b[1;32m    273\u001b[0m             \u001b[0;34m\"eth_call\"\u001b[0m\u001b[0;34m,\u001b[0m\u001b[0;34m\u001b[0m\u001b[0m\n\u001b[0;32m--> 274\u001b[0;31m             \u001b[0;34m[\u001b[0m\u001b[0mtransaction\u001b[0m\u001b[0;34m,\u001b[0m \u001b[0mblock_identifier\u001b[0m\u001b[0;34m]\u001b[0m\u001b[0;34m,\u001b[0m\u001b[0;34m\u001b[0m\u001b[0m\n\u001b[0m\u001b[1;32m    275\u001b[0m         )\n\u001b[1;32m    276\u001b[0m \u001b[0;34m\u001b[0m\u001b[0m\n",
      "\u001b[0;32m/usr/local/lib/python3.6/site-packages/web3/manager.py\u001b[0m in \u001b[0;36mrequest_blocking\u001b[0;34m(self, method, params)\u001b[0m\n\u001b[1;32m    104\u001b[0m \u001b[0;34m\u001b[0m\u001b[0m\n\u001b[1;32m    105\u001b[0m         \u001b[0;32mif\u001b[0m \u001b[0;34m\"error\"\u001b[0m \u001b[0;32min\u001b[0m \u001b[0mresponse\u001b[0m\u001b[0;34m:\u001b[0m\u001b[0;34m\u001b[0m\u001b[0m\n\u001b[0;32m--> 106\u001b[0;31m             \u001b[0;32mraise\u001b[0m \u001b[0mValueError\u001b[0m\u001b[0;34m(\u001b[0m\u001b[0mresponse\u001b[0m\u001b[0;34m[\u001b[0m\u001b[0;34m\"error\"\u001b[0m\u001b[0;34m]\u001b[0m\u001b[0;34m)\u001b[0m\u001b[0;34m\u001b[0m\u001b[0m\n\u001b[0m\u001b[1;32m    107\u001b[0m \u001b[0;34m\u001b[0m\u001b[0m\n\u001b[1;32m    108\u001b[0m         \u001b[0;32mreturn\u001b[0m \u001b[0mresponse\u001b[0m\u001b[0;34m[\u001b[0m\u001b[0;34m'result'\u001b[0m\u001b[0;34m]\u001b[0m\u001b[0;34m\u001b[0m\u001b[0m\n",
      "\u001b[0;31mValueError\u001b[0m: {'message': 'VM Exception while processing transaction: invalid opcode', 'code': -32000, 'data': {'stack': 'c: VM Exception while processing transaction: invalid opcode\\n    at Function.c.fromResults (/usr/local/lib/node_modules/ganache-cli/build/cli.node.js:2:313802)\\n    at /usr/local/lib/node_modules/ganache-cli/build/cli.node.js:2:537769\\n    at /usr/local/lib/node_modules/ganache-cli/build/cli.node.js:2:2006464\\n    at /usr/local/lib/node_modules/ganache-cli/build/cli.node.js:2:89955\\n    at /usr/local/lib/node_modules/ganache-cli/build/cli.node.js:2:75462\\n    at o (/usr/local/lib/node_modules/ganache-cli/build/cli.node.js:2:78562)\\n    at f (/usr/local/lib/node_modules/ganache-cli/build/cli.node.js:2:78484)\\n    at /usr/local/lib/node_modules/ganache-cli/build/cli.node.js:2:78286\\n    at /usr/local/lib/node_modules/ganache-cli/build/cli.node.js:2:89935\\n    at /usr/local/lib/node_modules/ganache-cli/build/cli.node.js:2:656606\\n    at l (/usr/local/lib/node_modules/ganache-cli/build/cli.node.js:2:657029)\\n    at /usr/local/lib/node_modules/ganache-cli/build/cli.node.js:2:657078\\n    at t.default (/usr/local/lib/node_modules/ganache-cli/build/cli.node.js:2:4115903)\\n    at /usr/local/lib/node_modules/ganache-cli/build/cli.node.js:2:655382\\n    at g.n.emit (/usr/local/lib/node_modules/ganache-cli/build/cli.node.js:2:2793427)\\n    at /usr/local/lib/node_modules/ganache-cli/build/cli.node.js:2:2006430\\n    at /usr/local/lib/node_modules/ganache-cli/build/cli.node.js:2:89874\\n    at o (/usr/local/lib/node_modules/ganache-cli/build/cli.node.js:2:78576)\\n    at f (/usr/local/lib/node_modules/ganache-cli/build/cli.node.js:2:78484)\\n    at /usr/local/lib/node_modules/ganache-cli/build/cli.node.js:2:78286\\n    at /usr/local/lib/node_modules/ganache-cli/build/cli.node.js:2:89935\\n    at /usr/local/lib/node_modules/ganache-cli/build/cli.node.js:2:2006409\\n    at /usr/local/lib/node_modules/ganache-cli/build/cli.node.js:2:2796209\\n    at /usr/local/lib/node_modules/ganache-cli/build/cli.node.js:2:75462\\n    at o (/usr/local/lib/node_modules/ganache-cli/build/cli.node.js:2:78562)\\n    at /usr/local/lib/node_modules/ganache-cli/build/cli.node.js:2:78600\\n    at Ut (/usr/local/lib/node_modules/ganache-cli/build/cli.node.js:2:87969)\\n    at Object.<anonymous> (/usr/local/lib/node_modules/ganache-cli/build/cli.node.js:2:78689)\\n    at /usr/local/lib/node_modules/ganache-cli/build/cli.node.js:2:2796130\\n    at /usr/local/lib/node_modules/ganache-cli/build/cli.node.js:2:78286\\n    at c (/usr/local/lib/node_modules/ganache-cli/build/cli.node.js:2:93333)\\n    at /usr/local/lib/node_modules/ganache-cli/build/cli.node.js:2:2796082\\n    at /usr/local/lib/node_modules/ganache-cli/build/cli.node.js:2:140451\\n    at /usr/local/lib/node_modules/ganache-cli/build/cli.node.js:2:321789', 'name': 'c'}}"
     ]
    }
   ],
   "source": [
    "contract_obj = web3.eth.contract(\n",
    "   address=address,\n",
    "   abi=contract_interface['abi'])\n",
    "\n",
    "response_received_event = contract_obj.events.ResponseReceived.createFilter(fromBlock='latest')\n",
    "response_received_event.get_new_entries()\n",
    "print(contract_obj.functions.inverseScale([5,2,3],2).call({'from': web3.eth.accounts[0]}))\n",
    "contract_obj.functions.sendResponse([1,2,3], [1], 3).call({'from': web3.eth.accounts[0]})\n",
    "# contract_obj.functions.sendResponse([1, 2], [1], 1).call()\n",
    "\n",
    "# client_selected_event = contract_obj.events.ClientSelected()\n",
    "\n",
    "def txn_digest(txn):\n",
    "    return \"Contract address: {0}\\nEvent: {1}\\nArg: {2}\".format(\n",
    "        txn['address'], txn['event'], txn['args'])\n",
    "\n",
    "def event_callback(arg):\n",
    "    print(txn_digest(arg))\n",
    "\n",
    "# response_received_event.\n",
    "# client_selected_event.createFilter({'filter': {'arg1':10}})\n",
    "\n",
    "# contract_obj.events\n",
    "# f = web3.utils.filters.LogFilter()\n",
    "# web3.eth.filter\n",
    "# f.get_all_entries()\n",
    "\n",
    "\n",
    "\n",
    "# deploy_txn = token_contract.constructor(web3.eth.coinbase, 12345).transact()\n",
    "# txn_receipt = web3.eth.getTransactionReceipt(deploy_txn)\n",
    "# txn_receipt['contractAddress']"
   ]
  },
  {
   "cell_type": "code",
   "execution_count": null,
   "metadata": {},
   "outputs": [],
   "source": []
  }
 ],
 "metadata": {
  "kernelspec": {
   "display_name": "Python 3",
   "language": "python",
   "name": "python3"
  },
  "language_info": {
   "codemirror_mode": {
    "name": "ipython",
    "version": 3
   },
   "file_extension": ".py",
   "mimetype": "text/x-python",
   "name": "python",
   "nbconvert_exporter": "python",
   "pygments_lexer": "ipython3",
   "version": "3.6.4"
  }
 },
 "nbformat": 4,
 "nbformat_minor": 2
}
