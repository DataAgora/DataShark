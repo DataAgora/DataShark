{
 "cells": [
  {
   "cell_type": "markdown",
   "metadata": {},
   "source": [
    "# Decentralized Machine Learning"
   ]
  },
  {
   "cell_type": "code",
   "execution_count": 17,
   "metadata": {},
   "outputs": [],
   "source": [
    "import warnings\n",
    "warnings.simplefilter('ignore')"
   ]
  },
  {
   "cell_type": "markdown",
   "metadata": {},
   "source": [
    "### Client Setup"
   ]
  },
  {
   "cell_type": "code",
   "execution_count": 18,
   "metadata": {},
   "outputs": [
    {
     "name": "stdout",
     "output_type": "stream",
     "text": [
      "0x6dc16b8c98ca4098df49801eba00396213a849f2\n",
      "0\n",
      "9999999999\n"
     ]
    }
   ],
   "source": [
    "from web3 import Web3, HTTPProvider, IPCProvider\n",
    "\n",
    "web3 = Web3(HTTPProvider('http://localhost:8545'))\n",
    "# web3v2 = Web3(HTTPProvider('https://ropsten.infura.io/c51VIUAGmJ7HIW2QwM3J'))\n",
    "# web3 = Web3(web3.currentProvider)\n",
    "\n",
    "PASSPHRASE = 'panda'\n",
    "TEST_ACCOUNT = web3.eth.coinbase\n",
    "\n",
    "# web3.eth.blockNumber\n",
    "acct = web3.personal.newAccount(PASSPHRASE)\n",
    "print(acct)\n",
    "print(web3.eth.getBalance(acct))\n",
    "web3.eth.sendTransaction({\"from\": TEST_ACCOUNT, \"to\": acct, \"value\": 9999999999})\n",
    "print(web3.eth.getBalance(acct))"
   ]
  },
  {
   "cell_type": "markdown",
   "metadata": {},
   "source": [
    "### Contract Deployment"
   ]
  },
  {
   "cell_type": "code",
   "execution_count": 20,
   "metadata": {},
   "outputs": [
    {
     "ename": "SolcError",
     "evalue": "An error occurred during execution\n> command: `solc --combined-json abi,asm,ast,bin,bin-runtime,clone-bin,devdoc,interface,opcodes,userdoc`\n> return code: `1`\n> stderr:\n\n> stdout:\n\u001b[31mERROR\u001b[0m: Unknown option --combined-json",
     "output_type": "error",
     "traceback": [
      "\u001b[0;31m---------------------------------------------------------------------------\u001b[0m",
      "\u001b[0;31mSolcError\u001b[0m                                 Traceback (most recent call last)",
      "\u001b[0;32m<ipython-input-20-c71fb51bdd54>\u001b[0m in \u001b[0;36m<module>\u001b[0;34m()\u001b[0m\n\u001b[1;32m     28\u001b[0m \u001b[0;34m\u001b[0m\u001b[0m\n\u001b[1;32m     29\u001b[0m \u001b[0mcontract_source_path\u001b[0m \u001b[0;34m=\u001b[0m \u001b[0mCONTRACT_NAME\u001b[0m\u001b[0;34m\u001b[0m\u001b[0m\n\u001b[0;32m---> 30\u001b[0;31m \u001b[0mcompiled_sol\u001b[0m \u001b[0;34m=\u001b[0m \u001b[0mcompile_source_file\u001b[0m\u001b[0;34m(\u001b[0m\u001b[0mcontract_source_path\u001b[0m\u001b[0;34m)\u001b[0m\u001b[0;34m\u001b[0m\u001b[0m\n\u001b[0m\u001b[1;32m     31\u001b[0m \u001b[0;34m\u001b[0m\u001b[0m\n\u001b[1;32m     32\u001b[0m \u001b[0mcontract_id\u001b[0m\u001b[0;34m,\u001b[0m \u001b[0mcontract_interface\u001b[0m \u001b[0;34m=\u001b[0m \u001b[0mcompiled_sol\u001b[0m\u001b[0;34m.\u001b[0m\u001b[0mpopitem\u001b[0m\u001b[0;34m(\u001b[0m\u001b[0;34m)\u001b[0m\u001b[0;34m\u001b[0m\u001b[0m\n",
      "\u001b[0;32m<ipython-input-20-c71fb51bdd54>\u001b[0m in \u001b[0;36mcompile_source_file\u001b[0;34m(file_path)\u001b[0m\n\u001b[1;32m      8\u001b[0m       \u001b[0msource\u001b[0m \u001b[0;34m=\u001b[0m \u001b[0mf\u001b[0m\u001b[0;34m.\u001b[0m\u001b[0mread\u001b[0m\u001b[0;34m(\u001b[0m\u001b[0;34m)\u001b[0m\u001b[0;34m\u001b[0m\u001b[0m\n\u001b[1;32m      9\u001b[0m \u001b[0;34m\u001b[0m\u001b[0m\n\u001b[0;32m---> 10\u001b[0;31m    \u001b[0;32mreturn\u001b[0m \u001b[0mcompile_source\u001b[0m\u001b[0;34m(\u001b[0m\u001b[0msource\u001b[0m\u001b[0;34m)\u001b[0m\u001b[0;34m\u001b[0m\u001b[0m\n\u001b[0m\u001b[1;32m     11\u001b[0m \u001b[0;34m\u001b[0m\u001b[0m\n\u001b[1;32m     12\u001b[0m \u001b[0;34m\u001b[0m\u001b[0m\n",
      "\u001b[0;32m/usr/local/lib/python3.6/site-packages/solc/main.py\u001b[0m in \u001b[0;36mcompile_source\u001b[0;34m(source, allow_empty, output_values, **kwargs)\u001b[0m\n\u001b[1;32m    104\u001b[0m     \u001b[0mcompiler_kwargs\u001b[0m \u001b[0;34m=\u001b[0m \u001b[0mdict\u001b[0m\u001b[0;34m(\u001b[0m\u001b[0mstdin\u001b[0m\u001b[0;34m=\u001b[0m\u001b[0msource\u001b[0m\u001b[0;34m,\u001b[0m \u001b[0mcombined_json\u001b[0m\u001b[0;34m=\u001b[0m\u001b[0mcombined_json\u001b[0m\u001b[0;34m,\u001b[0m \u001b[0;34m**\u001b[0m\u001b[0mkwargs\u001b[0m\u001b[0;34m)\u001b[0m\u001b[0;34m\u001b[0m\u001b[0m\n\u001b[1;32m    105\u001b[0m \u001b[0;34m\u001b[0m\u001b[0m\n\u001b[0;32m--> 106\u001b[0;31m     \u001b[0mstdoutdata\u001b[0m\u001b[0;34m,\u001b[0m \u001b[0mstderrdata\u001b[0m\u001b[0;34m,\u001b[0m \u001b[0mcommand\u001b[0m\u001b[0;34m,\u001b[0m \u001b[0mproc\u001b[0m \u001b[0;34m=\u001b[0m \u001b[0msolc_wrapper\u001b[0m\u001b[0;34m(\u001b[0m\u001b[0;34m**\u001b[0m\u001b[0mcompiler_kwargs\u001b[0m\u001b[0;34m)\u001b[0m\u001b[0;34m\u001b[0m\u001b[0m\n\u001b[0m\u001b[1;32m    107\u001b[0m \u001b[0;34m\u001b[0m\u001b[0m\n\u001b[1;32m    108\u001b[0m     \u001b[0mcontracts\u001b[0m \u001b[0;34m=\u001b[0m \u001b[0m_parse_compiler_output\u001b[0m\u001b[0;34m(\u001b[0m\u001b[0mstdoutdata\u001b[0m\u001b[0;34m)\u001b[0m\u001b[0;34m\u001b[0m\u001b[0m\n",
      "\u001b[0;32m/usr/local/lib/python3.6/site-packages/solc/utils/string.py\u001b[0m in \u001b[0;36minner\u001b[0;34m(*args, **kwargs)\u001b[0m\n\u001b[1;32m     83\u001b[0m     \u001b[0;34m@\u001b[0m\u001b[0mfunctools\u001b[0m\u001b[0;34m.\u001b[0m\u001b[0mwraps\u001b[0m\u001b[0;34m(\u001b[0m\u001b[0mfn\u001b[0m\u001b[0;34m)\u001b[0m\u001b[0;34m\u001b[0m\u001b[0m\n\u001b[1;32m     84\u001b[0m     \u001b[0;32mdef\u001b[0m \u001b[0minner\u001b[0m\u001b[0;34m(\u001b[0m\u001b[0;34m*\u001b[0m\u001b[0margs\u001b[0m\u001b[0;34m,\u001b[0m \u001b[0;34m**\u001b[0m\u001b[0mkwargs\u001b[0m\u001b[0;34m)\u001b[0m\u001b[0;34m:\u001b[0m\u001b[0;34m\u001b[0m\u001b[0m\n\u001b[0;32m---> 85\u001b[0;31m         \u001b[0;32mreturn\u001b[0m \u001b[0mforce_obj_to_text\u001b[0m\u001b[0;34m(\u001b[0m\u001b[0mfn\u001b[0m\u001b[0;34m(\u001b[0m\u001b[0;34m*\u001b[0m\u001b[0margs\u001b[0m\u001b[0;34m,\u001b[0m \u001b[0;34m**\u001b[0m\u001b[0mkwargs\u001b[0m\u001b[0;34m)\u001b[0m\u001b[0;34m)\u001b[0m\u001b[0;34m\u001b[0m\u001b[0m\n\u001b[0m\u001b[1;32m     86\u001b[0m     \u001b[0;32mreturn\u001b[0m \u001b[0minner\u001b[0m\u001b[0;34m\u001b[0m\u001b[0m\n",
      "\u001b[0;32m/usr/local/lib/python3.6/site-packages/solc/wrapper.py\u001b[0m in \u001b[0;36msolc_wrapper\u001b[0;34m(solc_binary, stdin, help, version, add_std, combined_json, optimize, optimize_runs, libraries, output_dir, gas, assemble, link, source_files, import_remappings, ast, ast_json, asm, asm_json, opcodes, bin, bin_runtime, clone_bin, abi, interface, hashes, userdoc, devdoc, formal, allow_paths, standard_json, success_return_code)\u001b[0m\n\u001b[1;32m    163\u001b[0m             \u001b[0mstdin_data\u001b[0m\u001b[0;34m=\u001b[0m\u001b[0mstdin\u001b[0m\u001b[0;34m,\u001b[0m\u001b[0;34m\u001b[0m\u001b[0m\n\u001b[1;32m    164\u001b[0m             \u001b[0mstdout_data\u001b[0m\u001b[0;34m=\u001b[0m\u001b[0mstdoutdata\u001b[0m\u001b[0;34m,\u001b[0m\u001b[0;34m\u001b[0m\u001b[0m\n\u001b[0;32m--> 165\u001b[0;31m             \u001b[0mstderr_data\u001b[0m\u001b[0;34m=\u001b[0m\u001b[0mstderrdata\u001b[0m\u001b[0;34m,\u001b[0m\u001b[0;34m\u001b[0m\u001b[0m\n\u001b[0m\u001b[1;32m    166\u001b[0m         )\n\u001b[1;32m    167\u001b[0m \u001b[0;34m\u001b[0m\u001b[0m\n",
      "\u001b[0;31mSolcError\u001b[0m: An error occurred during execution\n> command: `solc --combined-json abi,asm,ast,bin,bin-runtime,clone-bin,devdoc,interface,opcodes,userdoc`\n> return code: `1`\n> stderr:\n\n> stdout:\n\u001b[31mERROR\u001b[0m: Unknown option --combined-json"
     ]
    }
   ],
   "source": [
    "from solc import compile_source\n",
    "\n",
    "\n",
    "CONTRACT_NAME = 'Greeter.sol'\n",
    "\n",
    "def compile_source_file(file_path):\n",
    "   with open(file_path, 'r') as f:\n",
    "      source = f.read()\n",
    "\n",
    "   return compile_source(source)\n",
    "\n",
    "\n",
    "def deploy_contract(w3, contract_interface):\n",
    "    tx_hash = w3.eth.contract(\n",
    "        abi=contract_interface['abi'],\n",
    "        bytecode=contract_interface['bin']).deploy({\"from\": acct})\n",
    "\n",
    "    address = w3.eth.getTransactionReceipt(tx_hash)['contractAddress']\n",
    "    return address\n",
    "\n",
    "\n",
    "def wait_for_receipt(w3, tx_hash, poll_interval):\n",
    "   while True:\n",
    "       tx_receipt = w3.eth.getTransactionReceipt(tx_hash)\n",
    "       if tx_receipt:\n",
    "         return tx_receipt\n",
    "       time.sleep(poll_interval)\n",
    "    \n",
    "contract_source_path = CONTRACT_NAME\n",
    "compiled_sol = compile_source_file(contract_source_path)\n",
    "\n",
    "contract_id, contract_interface = compiled_sol.popitem()\n",
    "\n",
    "web3.personal.unlockAccount(acct, PASSPHRASE)\n",
    "\n",
    "address = deploy_contract(web3, contract_interface)\n",
    "print(\"Deployed {0} to: {1}\\n\".format(contract_id, address))"
   ]
  },
  {
   "cell_type": "markdown",
   "metadata": {},
   "source": [
    "### Event Listening"
   ]
  },
  {
   "cell_type": "code",
   "execution_count": null,
   "metadata": {},
   "outputs": [],
   "source": [
    "contract_obj = web3.eth.contract(\n",
    "   address=address,\n",
    "   abi=contract_interface['abi'])\n",
    "\n",
    "event_filter = contract_obj.pastEvents(\"Greeting\")\n",
    "event_filter.get()\n",
    "\n",
    "def txn_digest(txn):\n",
    "    return \"Contract address: {0}\\nEvent: {1}\\nArg: {2}\".format(\n",
    "        txn['address'], txn['event'], txn['args'])\n",
    "\n",
    "def event_callback(arg):\n",
    "    print(txn_digest(arg))\n",
    "\n",
    "event_filter.watch(event_callback)\n",
    "\n",
    "# contract_obj.events\n",
    "# f = web3.utils.filters.LogFilter()\n",
    "# web3.eth.filter\n",
    "# f.get_all_entries()\n",
    "\n",
    "\n",
    "\n",
    "# deploy_txn = token_contract.constructor(web3.eth.coinbase, 12345).transact()\n",
    "# txn_receipt = web3.eth.getTransactionReceipt(deploy_txn)\n",
    "# txn_receipt['contractAddress']"
   ]
  },
  {
   "cell_type": "code",
   "execution_count": null,
   "metadata": {},
   "outputs": [],
   "source": []
  }
 ],
 "metadata": {
  "kernelspec": {
   "display_name": "Python 3",
   "language": "python",
   "name": "python3"
  },
  "language_info": {
   "codemirror_mode": {
    "name": "ipython",
    "version": 3
   },
   "file_extension": ".py",
   "mimetype": "text/x-python",
   "name": "python",
   "nbconvert_exporter": "python",
   "pygments_lexer": "ipython3",
   "version": "3.6.4"
  }
 },
 "nbformat": 4,
 "nbformat_minor": 2
}
