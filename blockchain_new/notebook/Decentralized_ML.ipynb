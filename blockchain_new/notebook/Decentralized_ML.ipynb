{
 "cells": [
  {
   "cell_type": "markdown",
   "metadata": {},
   "source": [
    "# Decentralized Machine Learning"
   ]
  },
  {
   "cell_type": "code",
   "execution_count": 58,
   "metadata": {},
   "outputs": [],
   "source": [
    "import warnings\n",
    "warnings.simplefilter('ignore')"
   ]
  },
  {
   "cell_type": "markdown",
   "metadata": {},
   "source": [
    "### Client Setup"
   ]
  },
  {
   "cell_type": "code",
   "execution_count": 73,
   "metadata": {},
   "outputs": [
    {
     "name": "stdout",
     "output_type": "stream",
     "text": [
      "0x8abeabcef36fd819357f19e0e723af5a51cbef72\n",
      "0\n",
      "9999999999\n"
     ]
    }
   ],
   "source": [
    "from web3 import Web3, HTTPProvider, IPCProvider\n",
    "\n",
    "web3 = Web3(HTTPProvider('http://localhost:8545'))\n",
    "# web3v2 = Web3(HTTPProvider('https://ropsten.infura.io/c51VIUAGmJ7HIW2QwM3J'))\n",
    "# web3 = Web3(web3.currentProvider)\n",
    "\n",
    "PASSPHRASE = 'panda'\n",
    "TEST_ACCOUNT = web3.eth.coinbase\n",
    "\n",
    "# web3.eth.blockNumber\n",
    "acct = web3.personal.newAccount(PASSPHRASE)\n",
    "print(acct)\n",
    "print(web3.eth.getBalance(acct))\n",
    "web3.eth.sendTransaction({\"from\": TEST_ACCOUNT, \"to\": acct, \"value\": 9999999999})\n",
    "print(web3.eth.getBalance(acct))"
   ]
  },
  {
   "cell_type": "markdown",
   "metadata": {},
   "source": [
    "### Contract Deployment"
   ]
  },
  {
   "cell_type": "code",
   "execution_count": 77,
   "metadata": {},
   "outputs": [
    {
     "name": "stdout",
     "output_type": "stream",
     "text": [
      "Deployed <stdin>:Greeter to: 0xAcDe10EeF2edb85903565FDA5973F46441B238e3\n",
      "\n"
     ]
    }
   ],
   "source": [
    "from solc import compile_source\n",
    "\n",
    "\n",
    "CONTRACT_NAME = 'Greeter.sol'\n",
    "\n",
    "def compile_source_file(file_path):\n",
    "   with open(file_path, 'r') as f:\n",
    "      source = f.read()\n",
    "\n",
    "   return compile_source(source)\n",
    "\n",
    "\n",
    "def deploy_contract(w3, contract_interface):\n",
    "    tx_hash = w3.eth.contract(\n",
    "        abi=contract_interface['abi'],\n",
    "        bytecode=contract_interface['bin']).deploy({\"from\": acct})\n",
    "\n",
    "    address = w3.eth.getTransactionReceipt(tx_hash)['contractAddress']\n",
    "    return address\n",
    "\n",
    "\n",
    "def wait_for_receipt(w3, tx_hash, poll_interval):\n",
    "   while True:\n",
    "       tx_receipt = w3.eth.getTransactionReceipt(tx_hash)\n",
    "       if tx_receipt:\n",
    "         return tx_receipt\n",
    "       time.sleep(poll_interval)\n",
    "    \n",
    "contract_source_path = CONTRACT_NAME\n",
    "compiled_sol = compile_source_file(contract_source_path)\n",
    "\n",
    "contract_id, contract_interface = compiled_sol.popitem()\n",
    "\n",
    "web3.personal.unlockAccount(acct, PASSPHRASE)\n",
    "\n",
    "address = deploy_contract(web3, contract_interface)\n",
    "print(\"Deployed {0} to: {1}\\n\".format(contract_id, address))"
   ]
  },
  {
   "cell_type": "markdown",
   "metadata": {},
   "source": [
    "### Event Listening"
   ]
  },
  {
   "cell_type": "code",
   "execution_count": null,
   "metadata": {},
   "outputs": [],
   "source": [
    "web3.contract.Contract.events\n",
    "f = web3.utils.filters.LogFilter()\n",
    "web3.eth.filter\n",
    "f.get_all_entries()\n",
    "\n",
    "\n",
    "\n",
    "# deploy_txn = token_contract.constructor(web3.eth.coinbase, 12345).transact()\n",
    "# txn_receipt = web3.eth.getTransactionReceipt(deploy_txn)\n",
    "# txn_receipt['contractAddress']"
   ]
  }
 ],
 "metadata": {
  "kernelspec": {
   "display_name": "Python 3",
   "language": "python",
   "name": "python3"
  },
  "language_info": {
   "codemirror_mode": {
    "name": "ipython",
    "version": 3
   },
   "file_extension": ".py",
   "mimetype": "text/x-python",
   "name": "python",
   "nbconvert_exporter": "python",
   "pygments_lexer": "ipython3",
   "version": "3.6.4"
  }
 },
 "nbformat": 4,
 "nbformat_minor": 2
}
