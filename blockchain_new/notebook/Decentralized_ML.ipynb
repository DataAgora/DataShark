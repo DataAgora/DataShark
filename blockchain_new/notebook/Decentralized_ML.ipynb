{
 "cells": [
  {
   "cell_type": "markdown",
   "metadata": {},
   "source": [
    "# Decentralized Machine Learning"
   ]
  },
  {
   "cell_type": "code",
   "execution_count": 11,
   "metadata": {},
   "outputs": [],
   "source": [
    "import warnings\n",
    "warnings.simplefilter('ignore')"
   ]
  },
  {
   "cell_type": "markdown",
   "metadata": {},
   "source": [
    "### Client Setup"
   ]
  },
  {
   "cell_type": "code",
   "execution_count": 12,
   "metadata": {},
   "outputs": [
    {
     "name": "stdout",
     "output_type": "stream",
     "text": [
      "0xe69dcef3b9cab96a3dc8aec57b2f0349dbec5ec1\n",
      "0\n",
      "9999999999\n"
     ]
    }
   ],
   "source": [
    "from web3 import Web3, HTTPProvider, IPCProvider\n",
    "\n",
    "web3 = Web3(HTTPProvider('http://localhost:8545'))\n",
    "# web3v2 = Web3(HTTPProvider('https://ropsten.infura.io/c51VIUAGmJ7HIW2QwM3J'))\n",
    "# web3 = Web3(web3.currentProvider)\n",
    "\n",
    "PASSPHRASE = 'panda'\n",
    "TEST_ACCOUNT = web3.eth.coinbase\n",
    "\n",
    "# web3.eth.blockNumber\n",
    "acct = web3.personal.newAccount(PASSPHRASE)\n",
    "print(acct)\n",
    "print(web3.eth.getBalance(acct))\n",
    "web3.eth.sendTransaction({\"from\": TEST_ACCOUNT, \"to\": acct, \"value\": 9999999999})\n",
    "print(web3.eth.getBalance(acct))"
   ]
  },
  {
   "cell_type": "markdown",
   "metadata": {},
   "source": [
    "### Contract Deployment"
   ]
  },
  {
   "cell_type": "code",
   "execution_count": 13,
   "metadata": {},
   "outputs": [
    {
     "name": "stdout",
     "output_type": "stream",
     "text": [
      "Deployed <stdin>:Greeter to: 0x407949EB1f7A3cF39704298730f67c181817C2cE\n",
      "\n"
     ]
    }
   ],
   "source": [
    "from solc import compile_source\n",
    "\n",
    "\n",
    "CONTRACT_NAME = 'Greeter.sol'\n",
    "\n",
    "def compile_source_file(file_path):\n",
    "   with open(file_path, 'r') as f:\n",
    "      source = f.read()\n",
    "\n",
    "   return compile_source(source)\n",
    "\n",
    "\n",
    "def deploy_contract(w3, contract_interface):\n",
    "    tx_hash = w3.eth.contract(\n",
    "        abi=contract_interface['abi'],\n",
    "        bytecode=contract_interface['bin']).deploy({\"from\": acct})\n",
    "\n",
    "    address = w3.eth.getTransactionReceipt(tx_hash)['contractAddress']\n",
    "    return address\n",
    "\n",
    "\n",
    "def wait_for_receipt(w3, tx_hash, poll_interval):\n",
    "   while True:\n",
    "       tx_receipt = w3.eth.getTransactionReceipt(tx_hash)\n",
    "       if tx_receipt:\n",
    "         return tx_receipt\n",
    "       time.sleep(poll_interval)\n",
    "    \n",
    "contract_source_path = CONTRACT_NAME\n",
    "compiled_sol = compile_source_file(contract_source_path)\n",
    "\n",
    "contract_id, contract_interface = compiled_sol.popitem()\n",
    "\n",
    "web3.personal.unlockAccount(acct, PASSPHRASE)\n",
    "\n",
    "address = deploy_contract(web3, contract_interface)\n",
    "print(\"Deployed {0} to: {1}\\n\".format(contract_id, address))"
   ]
  },
  {
   "cell_type": "markdown",
   "metadata": {},
   "source": [
    "### Event Listening"
   ]
  },
  {
   "cell_type": "code",
   "execution_count": 29,
   "metadata": {},
   "outputs": [
    {
     "name": "stderr",
     "output_type": "stream",
     "text": [
      "/usr/local/lib/python3.6/site-packages/eth_utils/string.py:22: DeprecationWarning: The `force_obj_to_text` function has been deprecated and will be removed in a subsequent release of the eth-utils library. UTF8 cannot encode some byte values in the 0-255 range which makes naive coersion between bytes and text representations impossible without explicitly declared encodings.\n",
      "  \"declared encodings.\".format(fn.__name__)\n",
      "/usr/local/lib/python3.6/site-packages/eth_utils/string.py:22: DeprecationWarning: The `force_text` function has been deprecated and will be removed in a subsequent release of the eth-utils library. UTF8 cannot encode some byte values in the 0-255 range which makes naive coersion between bytes and text representations impossible without explicitly declared encodings.\n",
      "  \"declared encodings.\".format(fn.__name__)\n",
      "/usr/local/lib/python3.6/site-packages/eth_utils/formatting.py:20: DeprecationWarning: The `is_prefixed` function has been deprecated and will be removed in a subsequent release of the eth-utils library. Now that eth-utils is compatible with Python3, we encourage developers to use stdlib functions where possible.\n",
      "  \"functions where possible.\".format(fn.__name__)\n",
      "/usr/local/lib/python3.6/site-packages/eth_utils/string.py:22: DeprecationWarning: The `force_bytes` function has been deprecated and will be removed in a subsequent release of the eth-utils library. UTF8 cannot encode some byte values in the 0-255 range which makes naive coersion between bytes and text representations impossible without explicitly declared encodings.\n",
      "  \"declared encodings.\".format(fn.__name__)\n",
      "/usr/local/lib/python3.6/site-packages/eth_utils/string.py:22: DeprecationWarning: The `force_obj_to_bytes` function has been deprecated and will be removed in a subsequent release of the eth-utils library. UTF8 cannot encode some byte values in the 0-255 range which makes naive coersion between bytes and text representations impossible without explicitly declared encodings.\n",
      "  \"declared encodings.\".format(fn.__name__)\n",
      "/usr/local/lib/python3.6/site-packages/web3/utils/decorators.py:17: DeprecationWarning: pastEvents is deprecated in favor of an upcoming v4 method: eventFilter()\n",
      "  return self.method(obj, *args, **kwargs)\n",
      "/usr/local/lib/python3.6/site-packages/eth_utils/string.py:22: DeprecationWarning: The `force_obj_to_text` function has been deprecated and will be removed in a subsequent release of the eth-utils library. UTF8 cannot encode some byte values in the 0-255 range which makes naive coersion between bytes and text representations impossible without explicitly declared encodings.\n",
      "  \"declared encodings.\".format(fn.__name__)\n",
      "/usr/local/lib/python3.6/site-packages/eth_utils/string.py:22: DeprecationWarning: The `force_text` function has been deprecated and will be removed in a subsequent release of the eth-utils library. UTF8 cannot encode some byte values in the 0-255 range which makes naive coersion between bytes and text representations impossible without explicitly declared encodings.\n",
      "  \"declared encodings.\".format(fn.__name__)\n",
      "/usr/local/lib/python3.6/site-packages/eth_utils/string.py:22: DeprecationWarning: The `force_bytes` function has been deprecated and will be removed in a subsequent release of the eth-utils library. UTF8 cannot encode some byte values in the 0-255 range which makes naive coersion between bytes and text representations impossible without explicitly declared encodings.\n",
      "  \"declared encodings.\".format(fn.__name__)\n",
      "/usr/local/lib/python3.6/site-packages/web3/utils/decorators.py:17: DeprecationWarning: on is deprecated in favor of an upcoming v4 method: eventFilter()\n",
      "  return self.method(obj, *args, **kwargs)\n",
      "/usr/local/lib/python3.6/site-packages/eth_utils/string.py:22: DeprecationWarning: The `force_bytes` function has been deprecated and will be removed in a subsequent release of the eth-utils library. UTF8 cannot encode some byte values in the 0-255 range which makes naive coersion between bytes and text representations impossible without explicitly declared encodings.\n",
      "  \"declared encodings.\".format(fn.__name__)\n",
      "/usr/local/lib/python3.6/site-packages/eth_utils/string.py:22: DeprecationWarning: The `force_obj_to_bytes` function has been deprecated and will be removed in a subsequent release of the eth-utils library. UTF8 cannot encode some byte values in the 0-255 range which makes naive coersion between bytes and text representations impossible without explicitly declared encodings.\n",
      "  \"declared encodings.\".format(fn.__name__)\n",
      "/usr/local/lib/python3.6/site-packages/eth_utils/formatting.py:20: DeprecationWarning: The `is_prefixed` function has been deprecated and will be removed in a subsequent release of the eth-utils library. Now that eth-utils is compatible with Python3, we encourage developers to use stdlib functions where possible.\n",
      "  \"functions where possible.\".format(fn.__name__)\n",
      "/usr/local/lib/python3.6/site-packages/eth_utils/string.py:22: DeprecationWarning: The `force_obj_to_text` function has been deprecated and will be removed in a subsequent release of the eth-utils library. UTF8 cannot encode some byte values in the 0-255 range which makes naive coersion between bytes and text representations impossible without explicitly declared encodings.\n",
      "  \"declared encodings.\".format(fn.__name__)\n",
      "/usr/local/lib/python3.6/site-packages/eth_utils/string.py:22: DeprecationWarning: The `force_text` function has been deprecated and will be removed in a subsequent release of the eth-utils library. UTF8 cannot encode some byte values in the 0-255 range which makes naive coersion between bytes and text representations impossible without explicitly declared encodings.\n",
      "  \"declared encodings.\".format(fn.__name__)\n",
      "/usr/local/lib/python3.6/site-packages/web3/utils/filters.py:181: DeprecationWarning: LogFilter.get has been deprecated and will be removed from the LogFilter class in future releases. Update your code to use the new methods: LogFilter.get_new_entries and LogFilter.get_all_entries.\n",
      "  \"LogFilter.get has been deprecated and \"\n",
      "/usr/local/lib/python3.6/site-packages/web3/utils/filters.py:103: DeprecationWarning: Asynchronous filters have been deprecated and `watch` will be removed from the Filter class in future releases.  Prepare to update your code to work synchronously or handle asynchrony explicitly with a third party library, when switching to web3 version 4.\n",
      "  \"third party library, when switching to web3 version 4.\".format(method_name)\n",
      "/usr/local/lib/python3.6/site-packages/eth_abi/abi.py:92: DeprecationWarning: Automatic inference of hex encoded data has been deprecated. Please adjust your code to ensure that the data argument for `decode_single` is a byte string\n",
      "  \"Automatic inference of hex encoded data has been deprecated. \"\n"
     ]
    },
    {
     "name": "stdout",
     "output_type": "stream",
     "text": [
      "Contract address: 0x407949EB1f7A3cF39704298730f67c181817C2cE\n",
      "Event: Greeting\n",
      "Arg: {'person': '0xE69DCef3B9Cab96a3dC8AEC57b2f0349DbEc5Ec1'}\n"
     ]
    }
   ],
   "source": [
    "contract_obj = web3.eth.contract(\n",
    "   address=address,\n",
    "   abi=contract_interface['abi'])\n",
    "\n",
    "event_filter = contract_obj.pastEvents(\"Greeting\")\n",
    "event_filter.get()\n",
    "\n",
    "def txn_digest(txn):\n",
    "    return \"Contract address: {0}\\nEvent: {1}\\nArg: {2}\".format(\n",
    "        txn['address'], txn['event'], txn['args'])\n",
    "\n",
    "def event_callback(arg):\n",
    "    print(txn_digest(arg))\n",
    "\n",
    "event_filter.watch(event_callback)\n",
    "\n",
    "# contract_obj.events\n",
    "# f = web3.utils.filters.LogFilter()\n",
    "# web3.eth.filter\n",
    "# f.get_all_entries()\n",
    "\n",
    "\n",
    "\n",
    "# deploy_txn = token_contract.constructor(web3.eth.coinbase, 12345).transact()\n",
    "# txn_receipt = web3.eth.getTransactionReceipt(deploy_txn)\n",
    "# txn_receipt['contractAddress']"
   ]
  },
  {
   "cell_type": "code",
   "execution_count": null,
   "metadata": {},
   "outputs": [],
   "source": []
  }
 ],
 "metadata": {
  "kernelspec": {
   "display_name": "Python 3",
   "language": "python",
   "name": "python3"
  },
  "language_info": {
   "codemirror_mode": {
    "name": "ipython",
    "version": 3
   },
   "file_extension": ".py",
   "mimetype": "text/x-python",
   "name": "python",
   "nbconvert_exporter": "python",
   "pygments_lexer": "ipython3",
   "version": "3.6.4"
  }
 },
 "nbformat": 4,
 "nbformat_minor": 2
}
