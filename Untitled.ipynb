{
 "cells": [
  {
   "cell_type": "code",
   "execution_count": 2,
   "metadata": {
    "collapsed": true
   },
   "outputs": [],
   "source": [
    "import numpy as np \n",
    "import pandas as pd \n",
    "import os\n",
    "from collections import defaultdict\n",
    "\n",
    "data_folder = 'data/'\n",
    "\n",
    "user_data = defaultdict(list)"
   ]
  },
  {
   "cell_type": "code",
   "execution_count": 31,
   "metadata": {
    "collapsed": true
   },
   "outputs": [],
   "source": [
    "df = pd.read_csv('data/dailyActivity_merged.csv')"
   ]
  },
  {
   "cell_type": "code",
   "execution_count": 32,
   "metadata": {},
   "outputs": [],
   "source": [
    "df2 = df.groupby('Id', as_index=False).count()"
   ]
  },
  {
   "cell_type": "code",
   "execution_count": 33,
   "metadata": {},
   "outputs": [],
   "source": [
    "good_users = list(df2[df2.iloc[:, 1] == 31]['Id'])"
   ]
  },
  {
   "cell_type": "code",
   "execution_count": 40,
   "metadata": {},
   "outputs": [
    {
     "name": "stdout",
     "output_type": "stream",
     "text": [
      "[1503960366 '4/12/2016' 13162 8.5 8.5 0.0 1.87999999523163\n",
      " 0.550000011920929 6.05999994277954 0.0 25 13 328 728 1985 1503960366\n",
      " '4/13/2016' 10735 6.96999979019165 6.96999979019165 0.0 1.57000005245209\n",
      " 0.6899999976158139 4.71000003814697 0.0 21 19 217 776 1797 1503960366\n",
      " '4/14/2016' 10460 6.7399997711181605 6.7399997711181605 0.0\n",
      " 2.44000005722046 0.400000005960464 3.91000008583069 0.0 30 11 181 1218\n",
      " 1776 1503960366 '4/15/2016' 9762 6.28000020980835 6.28000020980835 0.0\n",
      " 2.14000010490417 1.25999999046326 2.82999992370605 0.0 29 34 209 726 1745\n",
      " 1503960366 '4/16/2016' 12669 8.159999847412111 8.159999847412111 0.0\n",
      " 2.7100000381469704 0.40999999642372104 5.03999996185303 0.0 36 10 221 773\n",
      " 1863 1503960366 '4/17/2016' 9705 6.48000001907349 6.48000001907349 0.0\n",
      " 3.1900000572204603 0.779999971389771 2.50999999046326 0.0 38 20 164 539\n",
      " 1728 1503960366 '4/18/2016' 13019 8.590000152587889 8.590000152587889 0.0\n",
      " 3.25 0.639999985694885 4.71000003814697 0.0 42 16 233 1149 1921 1503960366\n",
      " '4/19/2016' 15506 9.88000011444092 9.88000011444092 0.0 3.52999997138977\n",
      " 1.32000005245209 5.03000020980835 0.0 50 31 264 775 2035 1503960366\n",
      " '4/20/2016' 10544 6.67999982833862 6.67999982833862 0.0 1.96000003814697\n",
      " 0.479999989271164 4.23999977111816 0.0 28 12 205 818 1786 1503960366\n",
      " '4/21/2016' 9819 6.34000015258789 6.34000015258789 0.0 1.3400000333786\n",
      " 0.349999994039536 4.65000009536743 0.0 19 8 211 838 1775 1503960366\n",
      " '4/22/2016' 12764 8.13000011444092 8.13000011444092 0.0 4.76000022888184\n",
      " 1.12000000476837 2.24000000953674 0.0 66 27 130 1217 1827 1503960366\n",
      " '4/23/2016' 14371 9.03999996185303 9.03999996185303 0.0 2.8099999427795397\n",
      " 0.870000004768372 5.3600001335144 0.0 41 21 262 732 1949 1503960366\n",
      " '4/24/2016' 10039 6.40999984741211 6.40999984741211 0.0 2.92000007629395\n",
      " 0.209999993443489 3.27999997138977 0.0 39 5 238 709 1788 1503960366\n",
      " '4/25/2016' 15355 9.80000019073486 9.80000019073486 0.0 5.28999996185303\n",
      " 0.569999992847443 3.9400000572204603 0.0 73 14 216 814 2013 1503960366\n",
      " '4/26/2016' 13755 8.78999996185303 8.78999996185303 0.0 2.32999992370605\n",
      " 0.9200000166893009 5.53999996185303 0.0 31 23 279 833 1970 1503960366\n",
      " '4/27/2016' 18134 12.210000038147 12.210000038147 0.0 6.400000095367429\n",
      " 0.40999999642372104 5.40999984741211 0.0 78 11 243 1108 2159 1503960366\n",
      " '4/28/2016' 13154 8.52999973297119 8.52999973297119 0.0 3.5399999618530296\n",
      " 1.1599999666214 3.7899999618530296 0.0 48 28 189 782 1898 1503960366\n",
      " '4/29/2016' 11181 7.150000095367429 7.150000095367429 0.0 1.05999994277954\n",
      " 0.5 5.57999992370605 0.0 16 12 243 815 1837 1503960366 '4/30/2016' 14673\n",
      " 9.25 9.25 0.0 3.5599999427795397 1.41999995708466 4.269999980926509 0.0 52\n",
      " 34 217 712 1947 1503960366 '5/1/2016' 10602 6.80999994277954\n",
      " 6.80999994277954 0.0 2.2899999618530296 1.60000002384186 2.92000007629395\n",
      " 0.0 33 35 246 730 1820 1503960366 '5/2/2016' 14727 9.71000003814697\n",
      " 9.71000003814697 0.0 3.2100000381469704 0.569999992847443 5.92000007629395\n",
      " 0.0 41 15 277 798 2004 1503960366 '5/3/2016' 15103 9.65999984741211\n",
      " 9.65999984741211 0.0 3.7300000190734903 1.04999995231628 4.88000011444092\n",
      " 0.0 50 24 254 816 1990 1503960366 '5/4/2016' 11100 7.150000095367429\n",
      " 7.150000095367429 0.0 2.4600000381469704 0.870000004768372\n",
      " 3.8199999332427996 0.0 36 22 203 1179 1819 1503960366 '5/5/2016' 14070\n",
      " 8.89999961853027 8.89999961853027 0.0 2.92000007629395 1.08000004291534\n",
      " 4.88000011444092 0.0 45 24 250 857 1959 1503960366 '5/6/2016' 12159\n",
      " 8.02999973297119 8.02999973297119 0.0 1.9700000286102302 0.25\n",
      " 5.80999994277954 0.0 24 6 289 754 1896 1503960366 '5/7/2016' 11992\n",
      " 7.71000003814697 7.71000003814697 0.0 2.4600000381469704 2.11999988555908\n",
      " 3.1300001144409197 0.0 37 46 175 833 1821 1503960366 '5/8/2016' 10060\n",
      " 6.57999992370605 6.57999992370605 0.0 3.52999997138977 0.319999992847443\n",
      " 2.7300000190734903 0.0 44 8 203 574 1740 1503960366 '5/9/2016' 12022\n",
      " 7.71999979019165 7.71999979019165 0.0 3.45000004768372 0.5299999713897711\n",
      " 3.74000000953674 0.0 46 11 206 835 1819 1503960366 '5/10/2016' 12207\n",
      " 7.76999998092651 7.76999998092651 0.0 3.3499999046325697 1.1599999666214\n",
      " 3.25999999046326 0.0 46 31 214 746 1859 1503960366 '5/11/2016' 12770\n",
      " 8.13000011444092 8.13000011444092 0.0 2.55999994277954 1.00999999046326\n",
      " 4.550000190734861 0.0 36 23 251 669 1783 1503960366 '5/12/2016' 0 0.0 0.0\n",
      " 0.0 0.0 0.0 0.0 0.0 0 0 0 1440 0]\n"
     ]
    }
   ],
   "source": [
    "for x in df.groupby('Id'):\n",
    "    if x[0] in good_users:\n",
    "        print(x[1].as_matrix().flatten())\n",
    "    break"
   ]
  },
  {
   "cell_type": "code",
   "execution_count": 41,
   "metadata": {},
   "outputs": [
    {
     "data": {
      "text/plain": [
       "'minuteIntensitiesWide_merged.csv'"
      ]
     },
     "execution_count": 41,
     "metadata": {},
     "output_type": "execute_result"
    }
   ],
   "source": [
    "os.listdir(data_folder)[0]"
   ]
  },
  {
   "cell_type": "code",
   "execution_count": 2,
   "metadata": {
    "collapsed": true
   },
   "outputs": [],
   "source": [
    "first_file = \n",
    "df = pd.read_csv(data_folder + first_file)\n",
    "df2 = df.groupby('Id', as_index=False).count()\n",
    "good_users = list(df2[df2.iloc[:, 1] == 31]['Id'])"
   ]
  },
  {
   "cell_type": "code",
   "execution_count": 3,
   "metadata": {},
   "outputs": [
    {
     "name": "stdout",
     "output_type": "stream",
     "text": [
      "[1503960366, 1624580081, 1844505072, 1927972279, 2022484408, 2026352035, 2320127002, 2873212765, 4020332650, 4319703577, 4388161847, 4445114986, 4558609924, 4702921684, 5553957443, 6962181067, 7086361926, 8053475328, 8378563200, 8583815059, 8877689391] dailyActivity_merged.csv\n"
     ]
    },
    {
     "ename": "KeyError",
     "evalue": "'Id'",
     "output_type": "error",
     "traceback": [
      "\u001b[0;31m---------------------------------------------------------------------------\u001b[0m",
      "\u001b[0;31mKeyError\u001b[0m                                  Traceback (most recent call last)",
      "\u001b[0;32m<ipython-input-3-f95a8e529d13>\u001b[0m in \u001b[0;36m<module>\u001b[0;34m()\u001b[0m\n\u001b[1;32m      1\u001b[0m \u001b[0;32mfor\u001b[0m \u001b[0mfile\u001b[0m \u001b[0;32min\u001b[0m \u001b[0mos\u001b[0m\u001b[0;34m.\u001b[0m\u001b[0mlistdir\u001b[0m\u001b[0;34m(\u001b[0m\u001b[0mdata_folder\u001b[0m\u001b[0;34m)\u001b[0m\u001b[0;34m:\u001b[0m\u001b[0;34m\u001b[0m\u001b[0m\n\u001b[1;32m      2\u001b[0m     \u001b[0mdf\u001b[0m \u001b[0;34m=\u001b[0m \u001b[0mpd\u001b[0m\u001b[0;34m.\u001b[0m\u001b[0mread_csv\u001b[0m\u001b[0;34m(\u001b[0m\u001b[0mdata_folder\u001b[0m \u001b[0;34m+\u001b[0m \u001b[0mfile\u001b[0m\u001b[0;34m)\u001b[0m\u001b[0;34m\u001b[0m\u001b[0m\n\u001b[0;32m----> 3\u001b[0;31m     \u001b[0mdf2\u001b[0m \u001b[0;34m=\u001b[0m \u001b[0mdf\u001b[0m\u001b[0;34m.\u001b[0m\u001b[0mgroupby\u001b[0m\u001b[0;34m(\u001b[0m\u001b[0;34m'Id'\u001b[0m\u001b[0;34m,\u001b[0m \u001b[0mas_index\u001b[0m\u001b[0;34m=\u001b[0m\u001b[0;32mFalse\u001b[0m\u001b[0;34m)\u001b[0m\u001b[0;34m.\u001b[0m\u001b[0mcount\u001b[0m\u001b[0;34m(\u001b[0m\u001b[0;34m)\u001b[0m\u001b[0;34m\u001b[0m\u001b[0m\n\u001b[0m\u001b[1;32m      4\u001b[0m     \u001b[0mprint\u001b[0m\u001b[0;34m(\u001b[0m\u001b[0mlist\u001b[0m\u001b[0;34m(\u001b[0m\u001b[0mdf2\u001b[0m\u001b[0;34m[\u001b[0m\u001b[0mdf2\u001b[0m\u001b[0;34m.\u001b[0m\u001b[0miloc\u001b[0m\u001b[0;34m[\u001b[0m\u001b[0;34m:\u001b[0m\u001b[0;34m,\u001b[0m \u001b[0;36m1\u001b[0m\u001b[0;34m]\u001b[0m \u001b[0;34m==\u001b[0m \u001b[0;36m31\u001b[0m\u001b[0;34m]\u001b[0m\u001b[0;34m[\u001b[0m\u001b[0;34m'Id'\u001b[0m\u001b[0;34m]\u001b[0m\u001b[0;34m)\u001b[0m\u001b[0;34m,\u001b[0m \u001b[0mfile\u001b[0m\u001b[0;34m)\u001b[0m\u001b[0;34m\u001b[0m\u001b[0m\n",
      "\u001b[0;32m/Library/Frameworks/Python.framework/Versions/3.5/lib/python3.5/site-packages/pandas/core/generic.py\u001b[0m in \u001b[0;36mgroupby\u001b[0;34m(self, by, axis, level, as_index, sort, group_keys, squeeze, **kwargs)\u001b[0m\n\u001b[1;32m   4269\u001b[0m         return groupby(self, by=by, axis=axis, level=level, as_index=as_index,\n\u001b[1;32m   4270\u001b[0m                        \u001b[0msort\u001b[0m\u001b[0;34m=\u001b[0m\u001b[0msort\u001b[0m\u001b[0;34m,\u001b[0m \u001b[0mgroup_keys\u001b[0m\u001b[0;34m=\u001b[0m\u001b[0mgroup_keys\u001b[0m\u001b[0;34m,\u001b[0m \u001b[0msqueeze\u001b[0m\u001b[0;34m=\u001b[0m\u001b[0msqueeze\u001b[0m\u001b[0;34m,\u001b[0m\u001b[0;34m\u001b[0m\u001b[0m\n\u001b[0;32m-> 4271\u001b[0;31m                        **kwargs)\n\u001b[0m\u001b[1;32m   4272\u001b[0m \u001b[0;34m\u001b[0m\u001b[0m\n\u001b[1;32m   4273\u001b[0m     def asfreq(self, freq, method=None, how=None, normalize=False,\n",
      "\u001b[0;32m/Library/Frameworks/Python.framework/Versions/3.5/lib/python3.5/site-packages/pandas/core/groupby.py\u001b[0m in \u001b[0;36mgroupby\u001b[0;34m(obj, by, **kwds)\u001b[0m\n\u001b[1;32m   1624\u001b[0m         \u001b[0;32mraise\u001b[0m \u001b[0mTypeError\u001b[0m\u001b[0;34m(\u001b[0m\u001b[0;34m'invalid type: %s'\u001b[0m \u001b[0;34m%\u001b[0m \u001b[0mtype\u001b[0m\u001b[0;34m(\u001b[0m\u001b[0mobj\u001b[0m\u001b[0;34m)\u001b[0m\u001b[0;34m)\u001b[0m\u001b[0;34m\u001b[0m\u001b[0m\n\u001b[1;32m   1625\u001b[0m \u001b[0;34m\u001b[0m\u001b[0m\n\u001b[0;32m-> 1626\u001b[0;31m     \u001b[0;32mreturn\u001b[0m \u001b[0mklass\u001b[0m\u001b[0;34m(\u001b[0m\u001b[0mobj\u001b[0m\u001b[0;34m,\u001b[0m \u001b[0mby\u001b[0m\u001b[0;34m,\u001b[0m \u001b[0;34m**\u001b[0m\u001b[0mkwds\u001b[0m\u001b[0;34m)\u001b[0m\u001b[0;34m\u001b[0m\u001b[0m\n\u001b[0m\u001b[1;32m   1627\u001b[0m \u001b[0;34m\u001b[0m\u001b[0m\n\u001b[1;32m   1628\u001b[0m \u001b[0;34m\u001b[0m\u001b[0m\n",
      "\u001b[0;32m/Library/Frameworks/Python.framework/Versions/3.5/lib/python3.5/site-packages/pandas/core/groupby.py\u001b[0m in \u001b[0;36m__init__\u001b[0;34m(self, obj, keys, axis, level, grouper, exclusions, selection, as_index, sort, group_keys, squeeze, **kwargs)\u001b[0m\n\u001b[1;32m    390\u001b[0m                                                     \u001b[0mlevel\u001b[0m\u001b[0;34m=\u001b[0m\u001b[0mlevel\u001b[0m\u001b[0;34m,\u001b[0m\u001b[0;34m\u001b[0m\u001b[0m\n\u001b[1;32m    391\u001b[0m                                                     \u001b[0msort\u001b[0m\u001b[0;34m=\u001b[0m\u001b[0msort\u001b[0m\u001b[0;34m,\u001b[0m\u001b[0;34m\u001b[0m\u001b[0m\n\u001b[0;32m--> 392\u001b[0;31m                                                     mutated=self.mutated)\n\u001b[0m\u001b[1;32m    393\u001b[0m \u001b[0;34m\u001b[0m\u001b[0m\n\u001b[1;32m    394\u001b[0m         \u001b[0mself\u001b[0m\u001b[0;34m.\u001b[0m\u001b[0mobj\u001b[0m \u001b[0;34m=\u001b[0m \u001b[0mobj\u001b[0m\u001b[0;34m\u001b[0m\u001b[0m\n",
      "\u001b[0;32m/Library/Frameworks/Python.framework/Versions/3.5/lib/python3.5/site-packages/pandas/core/groupby.py\u001b[0m in \u001b[0;36m_get_grouper\u001b[0;34m(obj, key, axis, level, sort, mutated)\u001b[0m\n\u001b[1;32m   2615\u001b[0m                 \u001b[0min_axis\u001b[0m\u001b[0;34m,\u001b[0m \u001b[0mname\u001b[0m\u001b[0;34m,\u001b[0m \u001b[0mlevel\u001b[0m\u001b[0;34m,\u001b[0m \u001b[0mgpr\u001b[0m \u001b[0;34m=\u001b[0m \u001b[0;32mFalse\u001b[0m\u001b[0;34m,\u001b[0m \u001b[0;32mNone\u001b[0m\u001b[0;34m,\u001b[0m \u001b[0mgpr\u001b[0m\u001b[0;34m,\u001b[0m \u001b[0;32mNone\u001b[0m\u001b[0;34m\u001b[0m\u001b[0m\n\u001b[1;32m   2616\u001b[0m             \u001b[0;32melse\u001b[0m\u001b[0;34m:\u001b[0m\u001b[0;34m\u001b[0m\u001b[0m\n\u001b[0;32m-> 2617\u001b[0;31m                 \u001b[0;32mraise\u001b[0m \u001b[0mKeyError\u001b[0m\u001b[0;34m(\u001b[0m\u001b[0mgpr\u001b[0m\u001b[0;34m)\u001b[0m\u001b[0;34m\u001b[0m\u001b[0m\n\u001b[0m\u001b[1;32m   2618\u001b[0m         \u001b[0;32melif\u001b[0m \u001b[0misinstance\u001b[0m\u001b[0;34m(\u001b[0m\u001b[0mgpr\u001b[0m\u001b[0;34m,\u001b[0m \u001b[0mGrouper\u001b[0m\u001b[0;34m)\u001b[0m \u001b[0;32mand\u001b[0m \u001b[0mgpr\u001b[0m\u001b[0;34m.\u001b[0m\u001b[0mkey\u001b[0m \u001b[0;32mis\u001b[0m \u001b[0;32mnot\u001b[0m \u001b[0;32mNone\u001b[0m\u001b[0;34m:\u001b[0m\u001b[0;34m\u001b[0m\u001b[0m\n\u001b[1;32m   2619\u001b[0m             \u001b[0;31m# Add key to exclusions\u001b[0m\u001b[0;34m\u001b[0m\u001b[0;34m\u001b[0m\u001b[0m\n",
      "\u001b[0;31mKeyError\u001b[0m: 'Id'"
     ]
    }
   ],
   "source": [
    "for file in os.listdir(data_folder):\n",
    "    df = pd.read_csv(data_folder + file)\n",
    "    df2 = df.groupby('Id', as_index=False).count()\n",
    "    print(list(df2[df2.iloc[:, 1] == 31]['Id']), file)"
   ]
  },
  {
   "cell_type": "code",
   "execution_count": 4,
   "metadata": {
    "collapsed": true
   },
   "outputs": [],
   "source": [
    "first = os.listdir(data_folder)[0]"
   ]
  },
  {
   "cell_type": "code",
   "execution_count": 10,
   "metadata": {
    "collapsed": true
   },
   "outputs": [],
   "source": [
    "df = pd.read_csv(data_folder + 'dailyActivity_merged.csv', index_col=False)"
   ]
  },
  {
   "cell_type": "code",
   "execution_count": 11,
   "metadata": {},
   "outputs": [
    {
     "data": {
      "text/plain": [
       "0      1503960366\n",
       "1      1503960366\n",
       "2      1503960366\n",
       "3      1503960366\n",
       "4      1503960366\n",
       "5      1503960366\n",
       "6      1503960366\n",
       "7      1503960366\n",
       "8      1503960366\n",
       "9      1503960366\n",
       "10     1503960366\n",
       "11     1503960366\n",
       "12     1503960366\n",
       "13     1503960366\n",
       "14     1503960366\n",
       "15     1503960366\n",
       "16     1503960366\n",
       "17     1503960366\n",
       "18     1503960366\n",
       "19     1503960366\n",
       "20     1503960366\n",
       "21     1503960366\n",
       "22     1503960366\n",
       "23     1503960366\n",
       "24     1503960366\n",
       "25     1503960366\n",
       "26     1503960366\n",
       "27     1503960366\n",
       "28     1503960366\n",
       "29     1503960366\n",
       "          ...    \n",
       "910    8877689391\n",
       "911    8877689391\n",
       "912    8877689391\n",
       "913    8877689391\n",
       "914    8877689391\n",
       "915    8877689391\n",
       "916    8877689391\n",
       "917    8877689391\n",
       "918    8877689391\n",
       "919    8877689391\n",
       "920    8877689391\n",
       "921    8877689391\n",
       "922    8877689391\n",
       "923    8877689391\n",
       "924    8877689391\n",
       "925    8877689391\n",
       "926    8877689391\n",
       "927    8877689391\n",
       "928    8877689391\n",
       "929    8877689391\n",
       "930    8877689391\n",
       "931    8877689391\n",
       "932    8877689391\n",
       "933    8877689391\n",
       "934    8877689391\n",
       "935    8877689391\n",
       "936    8877689391\n",
       "937    8877689391\n",
       "938    8877689391\n",
       "939    8877689391\n",
       "Name: Id, Length: 940, dtype: int64"
      ]
     },
     "execution_count": 11,
     "metadata": {},
     "output_type": "execute_result"
    }
   ],
   "source": [
    "df['Id']"
   ]
  },
  {
   "cell_type": "code",
   "execution_count": 12,
   "metadata": {
    "collapsed": true
   },
   "outputs": [],
   "source": [
    "for x in df.groupby('Id'):\n",
    "    pass"
   ]
  },
  {
   "cell_type": "code",
   "execution_count": null,
   "metadata": {
    "collapsed": true
   },
   "outputs": [],
   "source": []
  }
 ],
 "metadata": {
  "kernelspec": {
   "display_name": "Python 3",
   "language": "python",
   "name": "python3"
  },
  "language_info": {
   "codemirror_mode": {
    "name": "ipython",
    "version": 3
   },
   "file_extension": ".py",
   "mimetype": "text/x-python",
   "name": "python",
   "nbconvert_exporter": "python",
   "pygments_lexer": "ipython3",
   "version": "3.5.2"
  }
 },
 "nbformat": 4,
 "nbformat_minor": 2
}
